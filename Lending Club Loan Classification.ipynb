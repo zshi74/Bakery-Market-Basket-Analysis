{
 "cells": [
  {
   "cell_type": "markdown",
   "metadata": {
    "toc": true
   },
   "source": [
    "<h1>Table of Contents<span class=\"tocSkip\"></span></h1>\n",
    "<div class=\"toc\"><ul class=\"toc-item\"><li><span><a href=\"#Introduction\" data-toc-modified-id=\"Introduction-1\"><span class=\"toc-item-num\">1&nbsp;&nbsp;</span>Introduction</a></span></li><li><span><a href=\"#Data-Preparation\" data-toc-modified-id=\"Data-Preparation-2\"><span class=\"toc-item-num\">2&nbsp;&nbsp;</span>Data Preparation</a></span><ul class=\"toc-item\"><li><span><a href=\"#Data-Overview\" data-toc-modified-id=\"Data-Overview-2.1\"><span class=\"toc-item-num\">2.1&nbsp;&nbsp;</span>Data Overview</a></span></li><li><span><a href=\"#Check-Missing-Values\" data-toc-modified-id=\"Check-Missing-Values-2.2\"><span class=\"toc-item-num\">2.2&nbsp;&nbsp;</span>Check Missing Values</a></span></li><li><span><a href=\"#Handle-Missing-Values\" data-toc-modified-id=\"Handle-Missing-Values-2.3\"><span class=\"toc-item-num\">2.3&nbsp;&nbsp;</span>Handle Missing Values</a></span></li><li><span><a href=\"#Handle-Outliers\" data-toc-modified-id=\"Handle-Outliers-2.4\"><span class=\"toc-item-num\">2.4&nbsp;&nbsp;</span>Handle Outliers</a></span></li></ul></li><li><span><a href=\"#Exploratory-Data-Analysis\" data-toc-modified-id=\"Exploratory-Data-Analysis-3\"><span class=\"toc-item-num\">3&nbsp;&nbsp;</span>Exploratory Data Analysis</a></span><ul class=\"toc-item\"><li><span><a href=\"#Response-Variable\" data-toc-modified-id=\"Response-Variable-3.1\"><span class=\"toc-item-num\">3.1&nbsp;&nbsp;</span>Response Variable</a></span></li><li><span><a href=\"#Dependent-Variables\" data-toc-modified-id=\"Dependent-Variables-3.2\"><span class=\"toc-item-num\">3.2&nbsp;&nbsp;</span>Dependent Variables</a></span><ul class=\"toc-item\"><li><span><a href=\"#Numeric-Variable\" data-toc-modified-id=\"Numeric-Variable-3.2.1\"><span class=\"toc-item-num\">3.2.1&nbsp;&nbsp;</span>Numeric Variable</a></span></li><li><span><a href=\"#Categorical-Variables\" data-toc-modified-id=\"Categorical-Variables-3.2.2\"><span class=\"toc-item-num\">3.2.2&nbsp;&nbsp;</span>Categorical Variables</a></span></li></ul></li></ul></li><li><span><a href=\"#Feature-Selection\" data-toc-modified-id=\"Feature-Selection-4\"><span class=\"toc-item-num\">4&nbsp;&nbsp;</span>Feature Selection</a></span><ul class=\"toc-item\"><li><span><a href=\"#Correlation-Plot\" data-toc-modified-id=\"Correlation-Plot-4.1\"><span class=\"toc-item-num\">4.1&nbsp;&nbsp;</span>Correlation Plot</a></span></li><li><span><a href=\"#Chi-square-Test\" data-toc-modified-id=\"Chi-square-Test-4.2\"><span class=\"toc-item-num\">4.2&nbsp;&nbsp;</span>Chi-square Test</a></span></li></ul></li><li><span><a href=\"#Predictive-Modeling\" data-toc-modified-id=\"Predictive-Modeling-5\"><span class=\"toc-item-num\">5&nbsp;&nbsp;</span>Predictive Modeling</a></span><ul class=\"toc-item\"><li><span><a href=\"#One-hot-Encoding\" data-toc-modified-id=\"One-hot-Encoding-5.1\"><span class=\"toc-item-num\">5.1&nbsp;&nbsp;</span>One-hot Encoding</a></span></li><li><span><a href=\"#Data-Partition\" data-toc-modified-id=\"Data-Partition-5.2\"><span class=\"toc-item-num\">5.2&nbsp;&nbsp;</span>Data Partition</a></span></li><li><span><a href=\"#Model-Construction\" data-toc-modified-id=\"Model-Construction-5.3\"><span class=\"toc-item-num\">5.3&nbsp;&nbsp;</span>Model Construction</a></span><ul class=\"toc-item\"><li><span><a href=\"#Logistic-Regression\" data-toc-modified-id=\"Logistic-Regression-5.3.1\"><span class=\"toc-item-num\">5.3.1&nbsp;&nbsp;</span>Logistic Regression</a></span></li></ul></li></ul></li></ul></div>"
   ]
  },
  {
   "cell_type": "code",
   "execution_count": 146,
   "metadata": {},
   "outputs": [],
   "source": [
    "## import packages\n",
    "import pandas as pd\n",
    "import numpy as np\n",
    "import matplotlib.pyplot as plt\n",
    "import seaborn as sns\n",
    "from scipy import stats # for chi-square test\n",
    "from sklearn.preprocessing import LabelEncoder\n",
    "from sklearn.preprocessing import OneHotEncoder # for one-hot encoding\n",
    "from sklearn.model_selection import train_test_split\n",
    "from sklearn.linear_model import LogisticRegression\n",
    "#from sklearn.metrics import confusion_matrix\n",
    "from sklearn.metrics import classification_report, roc_curve, auc, roc_auc_score, accuracy_score, confusion_matrix"
   ]
  },
  {
   "cell_type": "code",
   "execution_count": 95,
   "metadata": {},
   "outputs": [],
   "source": [
    "pd.set_option('display.max_columns', None)\n",
    "pd.set_option('display.max_rows',None)\n",
    "pd.set_option('display.float_format', lambda x: '%.5f' % x) # handle scentific notation"
   ]
  },
  {
   "cell_type": "code",
   "execution_count": 96,
   "metadata": {},
   "outputs": [],
   "source": [
    "## read data\n",
    "loan = pd.read_csv(\"data.csv\")"
   ]
  },
  {
   "cell_type": "markdown",
   "metadata": {},
   "source": [
    "# Introduction"
   ]
  },
  {
   "cell_type": "markdown",
   "metadata": {},
   "source": [
    "This dataset contains information about lending club's loans that were issued between January 2015 and September 2016. \n",
    "\n",
    "In this analysis, I will investigate the variables that can be used to make business rules to reduce default rate, and build predictive models to effectively predict a potential borrower's chance of default."
   ]
  },
  {
   "cell_type": "markdown",
   "metadata": {},
   "source": [
    "# Data Preparation"
   ]
  },
  {
   "cell_type": "markdown",
   "metadata": {},
   "source": [
    "## Data Overview"
   ]
  },
  {
   "cell_type": "code",
   "execution_count": 97,
   "metadata": {},
   "outputs": [
    {
     "name": "stdout",
     "output_type": "stream",
     "text": [
      "There are 80000 records and 26 features in our dataset.\n"
     ]
    }
   ],
   "source": [
    "print(\"There are\",loan.shape[0], \"records and\", loan.shape[1],\"features in our dataset.\")"
   ]
  },
  {
   "cell_type": "code",
   "execution_count": 98,
   "metadata": {},
   "outputs": [
    {
     "data": {
      "text/html": [
       "<div>\n",
       "<style scoped>\n",
       "    .dataframe tbody tr th:only-of-type {\n",
       "        vertical-align: middle;\n",
       "    }\n",
       "\n",
       "    .dataframe tbody tr th {\n",
       "        vertical-align: top;\n",
       "    }\n",
       "\n",
       "    .dataframe thead th {\n",
       "        text-align: right;\n",
       "    }\n",
       "</style>\n",
       "<table border=\"1\" class=\"dataframe\">\n",
       "  <thead>\n",
       "    <tr style=\"text-align: right;\">\n",
       "      <th></th>\n",
       "      <th>id</th>\n",
       "      <th>loan_amnt</th>\n",
       "      <th>term</th>\n",
       "      <th>installment</th>\n",
       "      <th>emp_length</th>\n",
       "      <th>home_ownership</th>\n",
       "      <th>annual_inc</th>\n",
       "      <th>verification_status</th>\n",
       "      <th>issue_d</th>\n",
       "      <th>loan_status</th>\n",
       "      <th>purpose</th>\n",
       "      <th>addr_state</th>\n",
       "      <th>dti</th>\n",
       "      <th>earliest_cr_line</th>\n",
       "      <th>fico_range_low</th>\n",
       "      <th>fico_range_high</th>\n",
       "      <th>last_credit_pull_d</th>\n",
       "      <th>last_fico_range_high</th>\n",
       "      <th>last_fico_range_low</th>\n",
       "      <th>acc_now_delinq</th>\n",
       "      <th>delinq_amnt</th>\n",
       "      <th>delinq_2yrs</th>\n",
       "      <th>mths_since_last_delinq</th>\n",
       "      <th>mths_since_last_record</th>\n",
       "      <th>inq_last_6mths</th>\n",
       "      <th>inq_last_12m</th>\n",
       "    </tr>\n",
       "  </thead>\n",
       "  <tbody>\n",
       "    <tr>\n",
       "      <td>0</td>\n",
       "      <td>88787390</td>\n",
       "      <td>30000</td>\n",
       "      <td>60 months</td>\n",
       "      <td>761.64000</td>\n",
       "      <td>6 years</td>\n",
       "      <td>RENT</td>\n",
       "      <td>100100.00000</td>\n",
       "      <td>Verified</td>\n",
       "      <td>Sep-2016</td>\n",
       "      <td>Current</td>\n",
       "      <td>debt_consolidation</td>\n",
       "      <td>SC</td>\n",
       "      <td>27.42000</td>\n",
       "      <td>Jan-1976</td>\n",
       "      <td>690</td>\n",
       "      <td>694</td>\n",
       "      <td>Dec-2016</td>\n",
       "      <td>709</td>\n",
       "      <td>705</td>\n",
       "      <td>0</td>\n",
       "      <td>0</td>\n",
       "      <td>0</td>\n",
       "      <td>26.00000</td>\n",
       "      <td>nan</td>\n",
       "      <td>0</td>\n",
       "      <td>0.00000</td>\n",
       "    </tr>\n",
       "    <tr>\n",
       "      <td>1</td>\n",
       "      <td>74722660</td>\n",
       "      <td>30000</td>\n",
       "      <td>60 months</td>\n",
       "      <td>692.93000</td>\n",
       "      <td>10+ years</td>\n",
       "      <td>MORTGAGE</td>\n",
       "      <td>235000.00000</td>\n",
       "      <td>Source Verified</td>\n",
       "      <td>Apr-2016</td>\n",
       "      <td>Current</td>\n",
       "      <td>home_improvement</td>\n",
       "      <td>PA</td>\n",
       "      <td>7.50000</td>\n",
       "      <td>Jan-1995</td>\n",
       "      <td>670</td>\n",
       "      <td>674</td>\n",
       "      <td>Dec-2016</td>\n",
       "      <td>649</td>\n",
       "      <td>645</td>\n",
       "      <td>0</td>\n",
       "      <td>0</td>\n",
       "      <td>1</td>\n",
       "      <td>16.00000</td>\n",
       "      <td>nan</td>\n",
       "      <td>1</td>\n",
       "      <td>3.00000</td>\n",
       "    </tr>\n",
       "    <tr>\n",
       "      <td>2</td>\n",
       "      <td>67919555</td>\n",
       "      <td>16000</td>\n",
       "      <td>60 months</td>\n",
       "      <td>379.39000</td>\n",
       "      <td>6 years</td>\n",
       "      <td>RENT</td>\n",
       "      <td>84000.00000</td>\n",
       "      <td>Not Verified</td>\n",
       "      <td>Jan-2016</td>\n",
       "      <td>Current</td>\n",
       "      <td>debt_consolidation</td>\n",
       "      <td>FL</td>\n",
       "      <td>27.87000</td>\n",
       "      <td>Aug-1998</td>\n",
       "      <td>735</td>\n",
       "      <td>739</td>\n",
       "      <td>Dec-2016</td>\n",
       "      <td>739</td>\n",
       "      <td>735</td>\n",
       "      <td>0</td>\n",
       "      <td>0</td>\n",
       "      <td>0</td>\n",
       "      <td>80.00000</td>\n",
       "      <td>nan</td>\n",
       "      <td>0</td>\n",
       "      <td>2.00000</td>\n",
       "    </tr>\n",
       "    <tr>\n",
       "      <td>3</td>\n",
       "      <td>54027458</td>\n",
       "      <td>14000</td>\n",
       "      <td>36 months</td>\n",
       "      <td>439.88000</td>\n",
       "      <td>5 years</td>\n",
       "      <td>RENT</td>\n",
       "      <td>50000.00000</td>\n",
       "      <td>Source Verified</td>\n",
       "      <td>Jul-2015</td>\n",
       "      <td>Fully Paid</td>\n",
       "      <td>debt_consolidation</td>\n",
       "      <td>WV</td>\n",
       "      <td>21.65000</td>\n",
       "      <td>Oct-1996</td>\n",
       "      <td>725</td>\n",
       "      <td>729</td>\n",
       "      <td>Oct-2016</td>\n",
       "      <td>749</td>\n",
       "      <td>745</td>\n",
       "      <td>0</td>\n",
       "      <td>0</td>\n",
       "      <td>0</td>\n",
       "      <td>nan</td>\n",
       "      <td>42.00000</td>\n",
       "      <td>0</td>\n",
       "      <td>nan</td>\n",
       "    </tr>\n",
       "    <tr>\n",
       "      <td>4</td>\n",
       "      <td>72594974</td>\n",
       "      <td>7500</td>\n",
       "      <td>36 months</td>\n",
       "      <td>252.67000</td>\n",
       "      <td>3 years</td>\n",
       "      <td>MORTGAGE</td>\n",
       "      <td>68000.00000</td>\n",
       "      <td>Not Verified</td>\n",
       "      <td>Feb-2016</td>\n",
       "      <td>Fully Paid</td>\n",
       "      <td>debt_consolidation</td>\n",
       "      <td>OH</td>\n",
       "      <td>29.09000</td>\n",
       "      <td>Nov-2000</td>\n",
       "      <td>660</td>\n",
       "      <td>664</td>\n",
       "      <td>Dec-2016</td>\n",
       "      <td>709</td>\n",
       "      <td>705</td>\n",
       "      <td>0</td>\n",
       "      <td>0</td>\n",
       "      <td>0</td>\n",
       "      <td>nan</td>\n",
       "      <td>nan</td>\n",
       "      <td>2</td>\n",
       "      <td>5.00000</td>\n",
       "    </tr>\n",
       "  </tbody>\n",
       "</table>\n",
       "</div>"
      ],
      "text/plain": [
       "         id  loan_amnt       term  installment emp_length home_ownership  \\\n",
       "0  88787390      30000  60 months    761.64000    6 years           RENT   \n",
       "1  74722660      30000  60 months    692.93000  10+ years       MORTGAGE   \n",
       "2  67919555      16000  60 months    379.39000    6 years           RENT   \n",
       "3  54027458      14000  36 months    439.88000    5 years           RENT   \n",
       "4  72594974       7500  36 months    252.67000    3 years       MORTGAGE   \n",
       "\n",
       "    annual_inc verification_status   issue_d loan_status             purpose  \\\n",
       "0 100100.00000            Verified  Sep-2016     Current  debt_consolidation   \n",
       "1 235000.00000     Source Verified  Apr-2016     Current    home_improvement   \n",
       "2  84000.00000        Not Verified  Jan-2016     Current  debt_consolidation   \n",
       "3  50000.00000     Source Verified  Jul-2015  Fully Paid  debt_consolidation   \n",
       "4  68000.00000        Not Verified  Feb-2016  Fully Paid  debt_consolidation   \n",
       "\n",
       "  addr_state      dti earliest_cr_line  fico_range_low  fico_range_high  \\\n",
       "0         SC 27.42000         Jan-1976             690              694   \n",
       "1         PA  7.50000         Jan-1995             670              674   \n",
       "2         FL 27.87000         Aug-1998             735              739   \n",
       "3         WV 21.65000         Oct-1996             725              729   \n",
       "4         OH 29.09000         Nov-2000             660              664   \n",
       "\n",
       "  last_credit_pull_d  last_fico_range_high  last_fico_range_low  \\\n",
       "0           Dec-2016                   709                  705   \n",
       "1           Dec-2016                   649                  645   \n",
       "2           Dec-2016                   739                  735   \n",
       "3           Oct-2016                   749                  745   \n",
       "4           Dec-2016                   709                  705   \n",
       "\n",
       "   acc_now_delinq  delinq_amnt  delinq_2yrs  mths_since_last_delinq  \\\n",
       "0               0            0            0                26.00000   \n",
       "1               0            0            1                16.00000   \n",
       "2               0            0            0                80.00000   \n",
       "3               0            0            0                     nan   \n",
       "4               0            0            0                     nan   \n",
       "\n",
       "   mths_since_last_record  inq_last_6mths  inq_last_12m  \n",
       "0                     nan               0       0.00000  \n",
       "1                     nan               1       3.00000  \n",
       "2                     nan               0       2.00000  \n",
       "3                42.00000               0           nan  \n",
       "4                     nan               2       5.00000  "
      ]
     },
     "execution_count": 98,
     "metadata": {},
     "output_type": "execute_result"
    }
   ],
   "source": [
    "## first five rows of loan data\n",
    "loan.head()"
   ]
  },
  {
   "cell_type": "markdown",
   "metadata": {},
   "source": [
    "## Check Missing Values"
   ]
  },
  {
   "cell_type": "markdown",
   "metadata": {},
   "source": [
    "Before doing analysis, I'll need to check how many missing values do I have in this dataset."
   ]
  },
  {
   "cell_type": "code",
   "execution_count": 99,
   "metadata": {},
   "outputs": [
    {
     "data": {
      "text/html": [
       "<div>\n",
       "<style scoped>\n",
       "    .dataframe tbody tr th:only-of-type {\n",
       "        vertical-align: middle;\n",
       "    }\n",
       "\n",
       "    .dataframe tbody tr th {\n",
       "        vertical-align: top;\n",
       "    }\n",
       "\n",
       "    .dataframe thead th {\n",
       "        text-align: right;\n",
       "    }\n",
       "</style>\n",
       "<table border=\"1\" class=\"dataframe\">\n",
       "  <thead>\n",
       "    <tr style=\"text-align: right;\">\n",
       "      <th></th>\n",
       "      <th>Count</th>\n",
       "      <th>Percent</th>\n",
       "    </tr>\n",
       "  </thead>\n",
       "  <tbody>\n",
       "    <tr>\n",
       "      <td>mths_since_last_record</td>\n",
       "      <td>65468</td>\n",
       "      <td>81.83000</td>\n",
       "    </tr>\n",
       "    <tr>\n",
       "      <td>inq_last_12m</td>\n",
       "      <td>42605</td>\n",
       "      <td>53.26000</td>\n",
       "    </tr>\n",
       "    <tr>\n",
       "      <td>mths_since_last_delinq</td>\n",
       "      <td>38214</td>\n",
       "      <td>47.77000</td>\n",
       "    </tr>\n",
       "    <tr>\n",
       "      <td>emp_length</td>\n",
       "      <td>4869</td>\n",
       "      <td>6.09000</td>\n",
       "    </tr>\n",
       "    <tr>\n",
       "      <td>last_credit_pull_d</td>\n",
       "      <td>4</td>\n",
       "      <td>0.00000</td>\n",
       "    </tr>\n",
       "  </tbody>\n",
       "</table>\n",
       "</div>"
      ],
      "text/plain": [
       "                        Count  Percent\n",
       "mths_since_last_record  65468 81.83000\n",
       "inq_last_12m            42605 53.26000\n",
       "mths_since_last_delinq  38214 47.77000\n",
       "emp_length               4869  6.09000\n",
       "last_credit_pull_d          4  0.00000"
      ]
     },
     "execution_count": 99,
     "metadata": {},
     "output_type": "execute_result"
    }
   ],
   "source": [
    "df_missing = pd.DataFrame({'Count': loan.isnull().sum(), 'Percent': round(100 * loan.isnull().sum()/len(loan),2)})\n",
    "df_missing[df_missing['Count'] != 0].sort_values(by = 'Percent', ascending = False)"
   ]
  },
  {
   "cell_type": "markdown",
   "metadata": {},
   "source": [
    "## Handle Missing Values"
   ]
  },
  {
   "cell_type": "markdown",
   "metadata": {},
   "source": [
    "The data is pretty clean, there are only 5 columns with missing values in this dataset. I'll drop the columns that contain more than 40% of missing values because having too many missing values in the columns will affect our analysis, and some machine learning algorithms cannot handle missing values very well."
   ]
  },
  {
   "cell_type": "code",
   "execution_count": 100,
   "metadata": {},
   "outputs": [
    {
     "name": "stdout",
     "output_type": "stream",
     "text": [
      "There are 3 columns needed to be dropped\n"
     ]
    }
   ],
   "source": [
    "# check features with more than 40% missing\n",
    "drop_list = df_missing[df_missing['Percent'] > 40].index\n",
    "print(\"There are\", len(drop_list), \"columns needed to be dropped\")"
   ]
  },
  {
   "cell_type": "code",
   "execution_count": 101,
   "metadata": {},
   "outputs": [],
   "source": [
    "# drop these features\n",
    "loan_2 = loan.drop(drop_list, axis = 1)"
   ]
  },
  {
   "cell_type": "code",
   "execution_count": 102,
   "metadata": {},
   "outputs": [
    {
     "data": {
      "text/html": [
       "<div>\n",
       "<style scoped>\n",
       "    .dataframe tbody tr th:only-of-type {\n",
       "        vertical-align: middle;\n",
       "    }\n",
       "\n",
       "    .dataframe tbody tr th {\n",
       "        vertical-align: top;\n",
       "    }\n",
       "\n",
       "    .dataframe thead th {\n",
       "        text-align: right;\n",
       "    }\n",
       "</style>\n",
       "<table border=\"1\" class=\"dataframe\">\n",
       "  <thead>\n",
       "    <tr style=\"text-align: right;\">\n",
       "      <th></th>\n",
       "      <th>Count</th>\n",
       "      <th>Percent</th>\n",
       "    </tr>\n",
       "  </thead>\n",
       "  <tbody>\n",
       "    <tr>\n",
       "      <td>emp_length</td>\n",
       "      <td>4869</td>\n",
       "      <td>6.09000</td>\n",
       "    </tr>\n",
       "    <tr>\n",
       "      <td>last_credit_pull_d</td>\n",
       "      <td>4</td>\n",
       "      <td>0.00000</td>\n",
       "    </tr>\n",
       "  </tbody>\n",
       "</table>\n",
       "</div>"
      ],
      "text/plain": [
       "                    Count  Percent\n",
       "emp_length           4869  6.09000\n",
       "last_credit_pull_d      4  0.00000"
      ]
     },
     "execution_count": 102,
     "metadata": {},
     "output_type": "execute_result"
    }
   ],
   "source": [
    "# check the remaining features\n",
    "df_missing_2 = pd.DataFrame({'Count': loan_2.isnull().sum(), 'Percent': round(100 * loan_2.isnull().sum()/len(loan_2),2)})\n",
    "df_missing_2[df_missing_2['Count'] != 0].sort_values(by = 'Percent', ascending = False)"
   ]
  },
  {
   "cell_type": "markdown",
   "metadata": {},
   "source": [
    "We have two features that contain missing values left. Firstly,"
   ]
  },
  {
   "cell_type": "code",
   "execution_count": 103,
   "metadata": {},
   "outputs": [],
   "source": [
    "# drop all the rows which have missing values\n",
    "loan_3 = loan_2.dropna(axis = 0)"
   ]
  },
  {
   "cell_type": "code",
   "execution_count": 104,
   "metadata": {},
   "outputs": [
    {
     "data": {
      "text/plain": [
       "id                        int64\n",
       "loan_amnt                 int64\n",
       "term                     object\n",
       "installment             float64\n",
       "emp_length               object\n",
       "home_ownership           object\n",
       "annual_inc              float64\n",
       "verification_status      object\n",
       "issue_d                  object\n",
       "loan_status              object\n",
       "purpose                  object\n",
       "addr_state               object\n",
       "dti                     float64\n",
       "earliest_cr_line         object\n",
       "fico_range_low            int64\n",
       "fico_range_high           int64\n",
       "last_credit_pull_d       object\n",
       "last_fico_range_high      int64\n",
       "last_fico_range_low       int64\n",
       "acc_now_delinq            int64\n",
       "delinq_amnt               int64\n",
       "delinq_2yrs               int64\n",
       "inq_last_6mths            int64\n",
       "dtype: object"
      ]
     },
     "execution_count": 104,
     "metadata": {},
     "output_type": "execute_result"
    }
   ],
   "source": [
    "loan_3.dtypes"
   ]
  },
  {
   "cell_type": "code",
   "execution_count": 105,
   "metadata": {},
   "outputs": [
    {
     "data": {
      "text/html": [
       "<div>\n",
       "<style scoped>\n",
       "    .dataframe tbody tr th:only-of-type {\n",
       "        vertical-align: middle;\n",
       "    }\n",
       "\n",
       "    .dataframe tbody tr th {\n",
       "        vertical-align: top;\n",
       "    }\n",
       "\n",
       "    .dataframe thead th {\n",
       "        text-align: right;\n",
       "    }\n",
       "</style>\n",
       "<table border=\"1\" class=\"dataframe\">\n",
       "  <thead>\n",
       "    <tr style=\"text-align: right;\">\n",
       "      <th></th>\n",
       "      <th>id</th>\n",
       "      <th>loan_amnt</th>\n",
       "      <th>term</th>\n",
       "      <th>installment</th>\n",
       "      <th>emp_length</th>\n",
       "      <th>home_ownership</th>\n",
       "      <th>annual_inc</th>\n",
       "      <th>verification_status</th>\n",
       "      <th>issue_d</th>\n",
       "      <th>loan_status</th>\n",
       "      <th>purpose</th>\n",
       "      <th>addr_state</th>\n",
       "      <th>dti</th>\n",
       "      <th>earliest_cr_line</th>\n",
       "      <th>fico_range_low</th>\n",
       "      <th>fico_range_high</th>\n",
       "      <th>last_credit_pull_d</th>\n",
       "      <th>last_fico_range_high</th>\n",
       "      <th>last_fico_range_low</th>\n",
       "      <th>acc_now_delinq</th>\n",
       "      <th>delinq_amnt</th>\n",
       "      <th>delinq_2yrs</th>\n",
       "      <th>inq_last_6mths</th>\n",
       "    </tr>\n",
       "  </thead>\n",
       "  <tbody>\n",
       "    <tr>\n",
       "      <td>0</td>\n",
       "      <td>88787390</td>\n",
       "      <td>30000</td>\n",
       "      <td>60 months</td>\n",
       "      <td>761.64000</td>\n",
       "      <td>6 years</td>\n",
       "      <td>RENT</td>\n",
       "      <td>100100.00000</td>\n",
       "      <td>Verified</td>\n",
       "      <td>Sep-2016</td>\n",
       "      <td>Current</td>\n",
       "      <td>debt_consolidation</td>\n",
       "      <td>SC</td>\n",
       "      <td>27.42000</td>\n",
       "      <td>Jan-1976</td>\n",
       "      <td>690</td>\n",
       "      <td>694</td>\n",
       "      <td>Dec-2016</td>\n",
       "      <td>709</td>\n",
       "      <td>705</td>\n",
       "      <td>0</td>\n",
       "      <td>0</td>\n",
       "      <td>0</td>\n",
       "      <td>0</td>\n",
       "    </tr>\n",
       "    <tr>\n",
       "      <td>1</td>\n",
       "      <td>74722660</td>\n",
       "      <td>30000</td>\n",
       "      <td>60 months</td>\n",
       "      <td>692.93000</td>\n",
       "      <td>10+ years</td>\n",
       "      <td>MORTGAGE</td>\n",
       "      <td>235000.00000</td>\n",
       "      <td>Source Verified</td>\n",
       "      <td>Apr-2016</td>\n",
       "      <td>Current</td>\n",
       "      <td>home_improvement</td>\n",
       "      <td>PA</td>\n",
       "      <td>7.50000</td>\n",
       "      <td>Jan-1995</td>\n",
       "      <td>670</td>\n",
       "      <td>674</td>\n",
       "      <td>Dec-2016</td>\n",
       "      <td>649</td>\n",
       "      <td>645</td>\n",
       "      <td>0</td>\n",
       "      <td>0</td>\n",
       "      <td>1</td>\n",
       "      <td>1</td>\n",
       "    </tr>\n",
       "    <tr>\n",
       "      <td>2</td>\n",
       "      <td>67919555</td>\n",
       "      <td>16000</td>\n",
       "      <td>60 months</td>\n",
       "      <td>379.39000</td>\n",
       "      <td>6 years</td>\n",
       "      <td>RENT</td>\n",
       "      <td>84000.00000</td>\n",
       "      <td>Not Verified</td>\n",
       "      <td>Jan-2016</td>\n",
       "      <td>Current</td>\n",
       "      <td>debt_consolidation</td>\n",
       "      <td>FL</td>\n",
       "      <td>27.87000</td>\n",
       "      <td>Aug-1998</td>\n",
       "      <td>735</td>\n",
       "      <td>739</td>\n",
       "      <td>Dec-2016</td>\n",
       "      <td>739</td>\n",
       "      <td>735</td>\n",
       "      <td>0</td>\n",
       "      <td>0</td>\n",
       "      <td>0</td>\n",
       "      <td>0</td>\n",
       "    </tr>\n",
       "    <tr>\n",
       "      <td>3</td>\n",
       "      <td>54027458</td>\n",
       "      <td>14000</td>\n",
       "      <td>36 months</td>\n",
       "      <td>439.88000</td>\n",
       "      <td>5 years</td>\n",
       "      <td>RENT</td>\n",
       "      <td>50000.00000</td>\n",
       "      <td>Source Verified</td>\n",
       "      <td>Jul-2015</td>\n",
       "      <td>Fully Paid</td>\n",
       "      <td>debt_consolidation</td>\n",
       "      <td>WV</td>\n",
       "      <td>21.65000</td>\n",
       "      <td>Oct-1996</td>\n",
       "      <td>725</td>\n",
       "      <td>729</td>\n",
       "      <td>Oct-2016</td>\n",
       "      <td>749</td>\n",
       "      <td>745</td>\n",
       "      <td>0</td>\n",
       "      <td>0</td>\n",
       "      <td>0</td>\n",
       "      <td>0</td>\n",
       "    </tr>\n",
       "    <tr>\n",
       "      <td>4</td>\n",
       "      <td>72594974</td>\n",
       "      <td>7500</td>\n",
       "      <td>36 months</td>\n",
       "      <td>252.67000</td>\n",
       "      <td>3 years</td>\n",
       "      <td>MORTGAGE</td>\n",
       "      <td>68000.00000</td>\n",
       "      <td>Not Verified</td>\n",
       "      <td>Feb-2016</td>\n",
       "      <td>Fully Paid</td>\n",
       "      <td>debt_consolidation</td>\n",
       "      <td>OH</td>\n",
       "      <td>29.09000</td>\n",
       "      <td>Nov-2000</td>\n",
       "      <td>660</td>\n",
       "      <td>664</td>\n",
       "      <td>Dec-2016</td>\n",
       "      <td>709</td>\n",
       "      <td>705</td>\n",
       "      <td>0</td>\n",
       "      <td>0</td>\n",
       "      <td>0</td>\n",
       "      <td>2</td>\n",
       "    </tr>\n",
       "  </tbody>\n",
       "</table>\n",
       "</div>"
      ],
      "text/plain": [
       "         id  loan_amnt       term  installment emp_length home_ownership  \\\n",
       "0  88787390      30000  60 months    761.64000    6 years           RENT   \n",
       "1  74722660      30000  60 months    692.93000  10+ years       MORTGAGE   \n",
       "2  67919555      16000  60 months    379.39000    6 years           RENT   \n",
       "3  54027458      14000  36 months    439.88000    5 years           RENT   \n",
       "4  72594974       7500  36 months    252.67000    3 years       MORTGAGE   \n",
       "\n",
       "    annual_inc verification_status   issue_d loan_status             purpose  \\\n",
       "0 100100.00000            Verified  Sep-2016     Current  debt_consolidation   \n",
       "1 235000.00000     Source Verified  Apr-2016     Current    home_improvement   \n",
       "2  84000.00000        Not Verified  Jan-2016     Current  debt_consolidation   \n",
       "3  50000.00000     Source Verified  Jul-2015  Fully Paid  debt_consolidation   \n",
       "4  68000.00000        Not Verified  Feb-2016  Fully Paid  debt_consolidation   \n",
       "\n",
       "  addr_state      dti earliest_cr_line  fico_range_low  fico_range_high  \\\n",
       "0         SC 27.42000         Jan-1976             690              694   \n",
       "1         PA  7.50000         Jan-1995             670              674   \n",
       "2         FL 27.87000         Aug-1998             735              739   \n",
       "3         WV 21.65000         Oct-1996             725              729   \n",
       "4         OH 29.09000         Nov-2000             660              664   \n",
       "\n",
       "  last_credit_pull_d  last_fico_range_high  last_fico_range_low  \\\n",
       "0           Dec-2016                   709                  705   \n",
       "1           Dec-2016                   649                  645   \n",
       "2           Dec-2016                   739                  735   \n",
       "3           Oct-2016                   749                  745   \n",
       "4           Dec-2016                   709                  705   \n",
       "\n",
       "   acc_now_delinq  delinq_amnt  delinq_2yrs  inq_last_6mths  \n",
       "0               0            0            0               0  \n",
       "1               0            0            1               1  \n",
       "2               0            0            0               0  \n",
       "3               0            0            0               0  \n",
       "4               0            0            0               2  "
      ]
     },
     "execution_count": 105,
     "metadata": {},
     "output_type": "execute_result"
    }
   ],
   "source": [
    "loan_3.head()"
   ]
  },
  {
   "cell_type": "markdown",
   "metadata": {},
   "source": [
    "## Handle Outliers"
   ]
  },
  {
   "cell_type": "code",
   "execution_count": 106,
   "metadata": {},
   "outputs": [
    {
     "data": {
      "text/html": [
       "<div>\n",
       "<style scoped>\n",
       "    .dataframe tbody tr th:only-of-type {\n",
       "        vertical-align: middle;\n",
       "    }\n",
       "\n",
       "    .dataframe tbody tr th {\n",
       "        vertical-align: top;\n",
       "    }\n",
       "\n",
       "    .dataframe thead th {\n",
       "        text-align: right;\n",
       "    }\n",
       "</style>\n",
       "<table border=\"1\" class=\"dataframe\">\n",
       "  <thead>\n",
       "    <tr style=\"text-align: right;\">\n",
       "      <th></th>\n",
       "      <th>id</th>\n",
       "      <th>loan_amnt</th>\n",
       "      <th>installment</th>\n",
       "      <th>annual_inc</th>\n",
       "      <th>dti</th>\n",
       "      <th>fico_range_low</th>\n",
       "      <th>fico_range_high</th>\n",
       "      <th>last_fico_range_high</th>\n",
       "      <th>last_fico_range_low</th>\n",
       "      <th>acc_now_delinq</th>\n",
       "      <th>delinq_amnt</th>\n",
       "      <th>delinq_2yrs</th>\n",
       "      <th>inq_last_6mths</th>\n",
       "    </tr>\n",
       "  </thead>\n",
       "  <tbody>\n",
       "    <tr>\n",
       "      <td>count</td>\n",
       "      <td>75127.00000</td>\n",
       "      <td>75127.00000</td>\n",
       "      <td>75127.00000</td>\n",
       "      <td>75127.00000</td>\n",
       "      <td>75127.00000</td>\n",
       "      <td>75127.00000</td>\n",
       "      <td>75127.00000</td>\n",
       "      <td>75127.00000</td>\n",
       "      <td>75127.00000</td>\n",
       "      <td>75127.00000</td>\n",
       "      <td>75127.00000</td>\n",
       "      <td>75127.00000</td>\n",
       "      <td>75127.00000</td>\n",
       "    </tr>\n",
       "    <tr>\n",
       "      <td>mean</td>\n",
       "      <td>64669959.88380</td>\n",
       "      <td>15258.90259</td>\n",
       "      <td>448.72659</td>\n",
       "      <td>79560.57686</td>\n",
       "      <td>18.94233</td>\n",
       "      <td>694.25659</td>\n",
       "      <td>698.25671</td>\n",
       "      <td>693.29810</td>\n",
       "      <td>686.11658</td>\n",
       "      <td>0.00674</td>\n",
       "      <td>16.04164</td>\n",
       "      <td>0.35822</td>\n",
       "      <td>0.56556</td>\n",
       "    </tr>\n",
       "    <tr>\n",
       "      <td>std</td>\n",
       "      <td>14916864.80415</td>\n",
       "      <td>8748.12253</td>\n",
       "      <td>256.46169</td>\n",
       "      <td>88638.29986</td>\n",
       "      <td>8.96912</td>\n",
       "      <td>30.57034</td>\n",
       "      <td>30.57093</td>\n",
       "      <td>58.42251</td>\n",
       "      <td>78.82776</td>\n",
       "      <td>0.08576</td>\n",
       "      <td>814.15961</td>\n",
       "      <td>0.95046</td>\n",
       "      <td>0.86330</td>\n",
       "    </tr>\n",
       "    <tr>\n",
       "      <td>min</td>\n",
       "      <td>65104.00000</td>\n",
       "      <td>1000.00000</td>\n",
       "      <td>30.12000</td>\n",
       "      <td>3600.00000</td>\n",
       "      <td>0.00000</td>\n",
       "      <td>660.00000</td>\n",
       "      <td>664.00000</td>\n",
       "      <td>0.00000</td>\n",
       "      <td>0.00000</td>\n",
       "      <td>0.00000</td>\n",
       "      <td>0.00000</td>\n",
       "      <td>0.00000</td>\n",
       "      <td>0.00000</td>\n",
       "    </tr>\n",
       "    <tr>\n",
       "      <td>25%</td>\n",
       "      <td>53624519.00000</td>\n",
       "      <td>8375.00000</td>\n",
       "      <td>262.17000</td>\n",
       "      <td>48000.00000</td>\n",
       "      <td>12.38000</td>\n",
       "      <td>670.00000</td>\n",
       "      <td>674.00000</td>\n",
       "      <td>669.00000</td>\n",
       "      <td>665.00000</td>\n",
       "      <td>0.00000</td>\n",
       "      <td>0.00000</td>\n",
       "      <td>0.00000</td>\n",
       "      <td>0.00000</td>\n",
       "    </tr>\n",
       "    <tr>\n",
       "      <td>50%</td>\n",
       "      <td>65677417.00000</td>\n",
       "      <td>14000.00000</td>\n",
       "      <td>387.15000</td>\n",
       "      <td>66965.00000</td>\n",
       "      <td>18.33000</td>\n",
       "      <td>685.00000</td>\n",
       "      <td>689.00000</td>\n",
       "      <td>699.00000</td>\n",
       "      <td>695.00000</td>\n",
       "      <td>0.00000</td>\n",
       "      <td>0.00000</td>\n",
       "      <td>0.00000</td>\n",
       "      <td>0.00000</td>\n",
       "    </tr>\n",
       "    <tr>\n",
       "      <td>75%</td>\n",
       "      <td>76113556.00000</td>\n",
       "      <td>20000.00000</td>\n",
       "      <td>593.06000</td>\n",
       "      <td>95000.00000</td>\n",
       "      <td>25.02000</td>\n",
       "      <td>710.00000</td>\n",
       "      <td>714.00000</td>\n",
       "      <td>729.00000</td>\n",
       "      <td>725.00000</td>\n",
       "      <td>0.00000</td>\n",
       "      <td>0.00000</td>\n",
       "      <td>0.00000</td>\n",
       "      <td>1.00000</td>\n",
       "    </tr>\n",
       "    <tr>\n",
       "      <td>max</td>\n",
       "      <td>90945156.00000</td>\n",
       "      <td>40000.00000</td>\n",
       "      <td>1536.95000</td>\n",
       "      <td>8706582.00000</td>\n",
       "      <td>553.33000</td>\n",
       "      <td>845.00000</td>\n",
       "      <td>850.00000</td>\n",
       "      <td>850.00000</td>\n",
       "      <td>845.00000</td>\n",
       "      <td>3.00000</td>\n",
       "      <td>110626.00000</td>\n",
       "      <td>39.00000</td>\n",
       "      <td>6.00000</td>\n",
       "    </tr>\n",
       "  </tbody>\n",
       "</table>\n",
       "</div>"
      ],
      "text/plain": [
       "                  id   loan_amnt  installment    annual_inc         dti  \\\n",
       "count    75127.00000 75127.00000  75127.00000   75127.00000 75127.00000   \n",
       "mean  64669959.88380 15258.90259    448.72659   79560.57686    18.94233   \n",
       "std   14916864.80415  8748.12253    256.46169   88638.29986     8.96912   \n",
       "min      65104.00000  1000.00000     30.12000    3600.00000     0.00000   \n",
       "25%   53624519.00000  8375.00000    262.17000   48000.00000    12.38000   \n",
       "50%   65677417.00000 14000.00000    387.15000   66965.00000    18.33000   \n",
       "75%   76113556.00000 20000.00000    593.06000   95000.00000    25.02000   \n",
       "max   90945156.00000 40000.00000   1536.95000 8706582.00000   553.33000   \n",
       "\n",
       "       fico_range_low  fico_range_high  last_fico_range_high  \\\n",
       "count     75127.00000      75127.00000           75127.00000   \n",
       "mean        694.25659        698.25671             693.29810   \n",
       "std          30.57034         30.57093              58.42251   \n",
       "min         660.00000        664.00000               0.00000   \n",
       "25%         670.00000        674.00000             669.00000   \n",
       "50%         685.00000        689.00000             699.00000   \n",
       "75%         710.00000        714.00000             729.00000   \n",
       "max         845.00000        850.00000             850.00000   \n",
       "\n",
       "       last_fico_range_low  acc_now_delinq  delinq_amnt  delinq_2yrs  \\\n",
       "count          75127.00000     75127.00000  75127.00000  75127.00000   \n",
       "mean             686.11658         0.00674     16.04164      0.35822   \n",
       "std               78.82776         0.08576    814.15961      0.95046   \n",
       "min                0.00000         0.00000      0.00000      0.00000   \n",
       "25%              665.00000         0.00000      0.00000      0.00000   \n",
       "50%              695.00000         0.00000      0.00000      0.00000   \n",
       "75%              725.00000         0.00000      0.00000      0.00000   \n",
       "max              845.00000         3.00000 110626.00000     39.00000   \n",
       "\n",
       "       inq_last_6mths  \n",
       "count     75127.00000  \n",
       "mean          0.56556  \n",
       "std           0.86330  \n",
       "min           0.00000  \n",
       "25%           0.00000  \n",
       "50%           0.00000  \n",
       "75%           1.00000  \n",
       "max           6.00000  "
      ]
     },
     "execution_count": 106,
     "metadata": {},
     "output_type": "execute_result"
    }
   ],
   "source": [
    "loan_3.describe()"
   ]
  },
  {
   "cell_type": "markdown",
   "metadata": {},
   "source": [
    "# Exploratory Data Analysis"
   ]
  },
  {
   "cell_type": "markdown",
   "metadata": {},
   "source": [
    "Let's investigate some of the important features further based on my domain knowledge of loan business."
   ]
  },
  {
   "cell_type": "code",
   "execution_count": null,
   "metadata": {},
   "outputs": [],
   "source": []
  },
  {
   "cell_type": "markdown",
   "metadata": {},
   "source": [
    "## Response Variable"
   ]
  },
  {
   "cell_type": "markdown",
   "metadata": {},
   "source": [
    "One of the goals of this analysis is to predict a potential borrower's chance of default. The variable `loan_status` contains three levels: \n",
    "* *Current*: The borrower has paid off all due payment as of the latest due date.\n",
    "\n",
    "* *Fully Paid*: The borrower has paid off the entire balance of the loan\n",
    "\n",
    "* *Default*: The borrower has missed the last payment"
   ]
  },
  {
   "cell_type": "code",
   "execution_count": 107,
   "metadata": {},
   "outputs": [
    {
     "data": {
      "text/plain": [
       "<matplotlib.axes._subplots.AxesSubplot at 0x1a23d49350>"
      ]
     },
     "execution_count": 107,
     "metadata": {},
     "output_type": "execute_result"
    },
    {
     "data": {
      "image/png": "[encoded data removed]",
      "text/plain": [
       "<Figure size 432x288 with 1 Axes>"
      ]
     },
     "metadata": {},
     "output_type": "display_data"
    }
   ],
   "source": [
    "sns.countplot(x = 'loan_status', data = loan_3)"
   ]
  },
  {
   "cell_type": "markdown",
   "metadata": {},
   "source": [
    "As we can see, a majority of borrowers have paid off all due payment as of the latest due date, followed by fully paid and default. \n",
    "\n",
    "The problem of interest here is to predict borrowers with high possibilities to default, so for the sake of this analysis, I will combine *current* and *fully paid* customers together as a new value: Non-default."
   ]
  },
  {
   "cell_type": "code",
   "execution_count": 108,
   "metadata": {},
   "outputs": [
    {
     "name": "stderr",
     "output_type": "stream",
     "text": [
      "/opt/anaconda3/lib/python3.7/site-packages/pandas/core/indexing.py:376: SettingWithCopyWarning: \n",
      "A value is trying to be set on a copy of a slice from a DataFrame.\n",
      "Try using .loc[row_indexer,col_indexer] = value instead\n",
      "\n",
      "See the caveats in the documentation: http://pandas.pydata.org/pandas-docs/stable/user_guide/indexing.html#returning-a-view-versus-a-copy\n",
      "  self.obj[key] = _infer_fill_value(value)\n",
      "/opt/anaconda3/lib/python3.7/site-packages/pandas/core/indexing.py:494: SettingWithCopyWarning: \n",
      "A value is trying to be set on a copy of a slice from a DataFrame.\n",
      "Try using .loc[row_indexer,col_indexer] = value instead\n",
      "\n",
      "See the caveats in the documentation: http://pandas.pydata.org/pandas-docs/stable/user_guide/indexing.html#returning-a-view-versus-a-copy\n",
      "  self.obj[item] = s\n"
     ]
    }
   ],
   "source": [
    "# constructed a new binary variable\n",
    "loan_3.loc[loan_3['loan_status'] == 'Default', 'Default'] = 1\n",
    "loan_3.loc[loan_3['loan_status'] != 'Default', 'Default'] = 0\n",
    "\n",
    "# drop the loan_status column\n",
    "loan_3 = loan_3.drop('loan_status', axis = 1)\n",
    "\n",
    "# convert data type\n",
    "loan_3['Default'] = loan_3['Default'].astype('category')"
   ]
  },
  {
   "cell_type": "code",
   "execution_count": 109,
   "metadata": {},
   "outputs": [
    {
     "data": {
      "text/plain": [
       "<matplotlib.axes._subplots.AxesSubplot at 0x1a24276f90>"
      ]
     },
     "execution_count": 109,
     "metadata": {},
     "output_type": "execute_result"
    },
    {
     "data": {
      "image/png": "[encoded data removed]",
      "text/plain": [
       "<Figure size 432x288 with 1 Axes>"
      ]
     },
     "metadata": {},
     "output_type": "display_data"
    }
   ],
   "source": [
    "sns.countplot(x = 'Default', data = loan_3)"
   ]
  },
  {
   "cell_type": "markdown",
   "metadata": {},
   "source": [
    "The response variable is quite imbalanced, this will be some problems when I need to predict the default."
   ]
  },
  {
   "cell_type": "markdown",
   "metadata": {},
   "source": [
    "## Dependent Variables"
   ]
  },
  {
   "cell_type": "markdown",
   "metadata": {},
   "source": [
    "### Numeric Variable"
   ]
  },
  {
   "cell_type": "markdown",
   "metadata": {},
   "source": [
    "Overall distribution of numeric variable:"
   ]
  },
  {
   "cell_type": "code",
   "execution_count": 110,
   "metadata": {},
   "outputs": [
    {
     "data": {
      "image/png": "[encoded data removed]",
      "text/plain": [
       "<Figure size 1080x864 with 16 Axes>"
      ]
     },
     "metadata": {},
     "output_type": "display_data"
    }
   ],
   "source": [
    "loan_3.hist(figsize = (15,12), bins = 15)\n",
    "plt.show()"
   ]
  },
  {
   "cell_type": "markdown",
   "metadata": {},
   "source": [
    "**Loan Amount**"
   ]
  },
  {
   "cell_type": "code",
   "execution_count": 111,
   "metadata": {},
   "outputs": [],
   "source": [
    "## Function to plot the distribution \n",
    "def plot_continuous(df, variable, hue_choice, palette_choice=None):\n",
    "    g = sns.FacetGrid(df, hue=hue_choice, sharex=True, sharey=True, palette=palette_choice, height=6, aspect=2)\n",
    "    g = g.map(plt.hist, variable, bins=40, alpha=0.7).add_legend()\n",
    "    return g"
   ]
  },
  {
   "cell_type": "code",
   "execution_count": 112,
   "metadata": {},
   "outputs": [
    {
     "data": {
      "text/plain": [
       "<seaborn.axisgrid.FacetGrid at 0x1a23e9e250>"
      ]
     },
     "execution_count": 112,
     "metadata": {},
     "output_type": "execute_result"
    },
    {
     "data": {
      "image/png": "[encoded data removed]",
      "text/plain": [
       "<Figure size 918.975x432 with 1 Axes>"
      ]
     },
     "metadata": {},
     "output_type": "display_data"
    }
   ],
   "source": [
    "## distribution and box plot for loan amount\n",
    "#plt.figure(figsize = (12,5))\n",
    "plot_continuous(loan_3, 'loan_amnt', 'Default', 'RdBu')"
   ]
  },
  {
   "cell_type": "code",
   "execution_count": 113,
   "metadata": {},
   "outputs": [
    {
     "data": {
      "text/plain": [
       "<matplotlib.axes._subplots.AxesSubplot at 0x1a29464890>"
      ]
     },
     "execution_count": 113,
     "metadata": {},
     "output_type": "execute_result"
    },
    {
     "data": {
      "image/png": "[encoded data removed]",
      "text/plain": [
       "<Figure size 432x288 with 1 Axes>"
      ]
     },
     "metadata": {},
     "output_type": "display_data"
    }
   ],
   "source": [
    "#plt.figure(figsize = (8,8))\n",
    "sns.boxplot(x = loan_3.Default, y = loan_3.loan_amnt)"
   ]
  },
  {
   "cell_type": "code",
   "execution_count": null,
   "metadata": {},
   "outputs": [],
   "source": []
  },
  {
   "cell_type": "markdown",
   "metadata": {},
   "source": [
    "### Categorical Variables"
   ]
  },
  {
   "cell_type": "markdown",
   "metadata": {},
   "source": [
    "**term**"
   ]
  },
  {
   "cell_type": "code",
   "execution_count": 114,
   "metadata": {},
   "outputs": [
    {
     "data": {
      "text/plain": [
       "<matplotlib.axes._subplots.AxesSubplot at 0x1a2ac92450>"
      ]
     },
     "execution_count": 114,
     "metadata": {},
     "output_type": "execute_result"
    },
    {
     "data": {
      "image/png": "[encoded data removed]",
      "text/plain": [
       "<Figure size 432x288 with 1 Axes>"
      ]
     },
     "metadata": {},
     "output_type": "display_data"
    }
   ],
   "source": [
    "#plt.figure(figsize = (10,8))\n",
    "sns.set(style = 'whitegrid')\n",
    "sns.countplot(loan_3.term, hue = loan_3.Default)"
   ]
  },
  {
   "cell_type": "markdown",
   "metadata": {},
   "source": [
    "Proportionally speaking, the volume of borrowers who have 60-month loan default is much higher than the volume of 36-month loan term borrowers."
   ]
  },
  {
   "cell_type": "markdown",
   "metadata": {},
   "source": [
    "**emp_length**"
   ]
  },
  {
   "cell_type": "code",
   "execution_count": 115,
   "metadata": {},
   "outputs": [
    {
     "data": {
      "text/plain": [
       "<matplotlib.axes._subplots.AxesSubplot at 0x1a26ea5050>"
      ]
     },
     "execution_count": 115,
     "metadata": {},
     "output_type": "execute_result"
    },
    {
     "data": {
      "image/png": "[encoded data removed]",
      "text/plain": [
       "<Figure size 720x576 with 1 Axes>"
      ]
     },
     "metadata": {},
     "output_type": "display_data"
    }
   ],
   "source": [
    "plt.figure(figsize = (10,8))\n",
    "sns.set(style = 'whitegrid')\n",
    "sns.countplot(loan_3.emp_length, hue = loan_3.Default)"
   ]
  },
  {
   "cell_type": "markdown",
   "metadata": {},
   "source": [
    "The percent of default for people with more than 10+ employment histroy is pretty low. "
   ]
  },
  {
   "cell_type": "markdown",
   "metadata": {},
   "source": [
    "**home_ownership**"
   ]
  },
  {
   "cell_type": "code",
   "execution_count": 116,
   "metadata": {},
   "outputs": [
    {
     "data": {
      "text/plain": [
       "<matplotlib.axes._subplots.AxesSubplot at 0x1a23d49ed0>"
      ]
     },
     "execution_count": 116,
     "metadata": {},
     "output_type": "execute_result"
    },
    {
     "data": {
      "image/png": "[encoded data removed]",
      "text/plain": [
       "<Figure size 720x576 with 1 Axes>"
      ]
     },
     "metadata": {},
     "output_type": "display_data"
    }
   ],
   "source": [
    "plt.figure(figsize = (10,8))\n",
    "sns.set(style = 'whitegrid')\n",
    "sns.countplot(loan_3.home_ownership, hue = loan_3.Default)"
   ]
  },
  {
   "cell_type": "markdown",
   "metadata": {},
   "source": [
    "Here we can see people who have already owned their house are less likely to default."
   ]
  },
  {
   "cell_type": "markdown",
   "metadata": {},
   "source": [
    "# Feature Selection"
   ]
  },
  {
   "cell_type": "markdown",
   "metadata": {},
   "source": [
    "Given the fact that we don't have a crazy number of variables here, I will use some simple but power feature selection teniques - **correlation** and **chi-square test**."
   ]
  },
  {
   "cell_type": "code",
   "execution_count": 117,
   "metadata": {},
   "outputs": [],
   "source": [
    "## drop id and date columns\n",
    "loan_4 = loan_3.drop(['id', 'issue_d','earliest_cr_line','last_credit_pull_d'], axis = 1)"
   ]
  },
  {
   "cell_type": "code",
   "execution_count": 118,
   "metadata": {},
   "outputs": [
    {
     "data": {
      "text/html": [
       "<div>\n",
       "<style scoped>\n",
       "    .dataframe tbody tr th:only-of-type {\n",
       "        vertical-align: middle;\n",
       "    }\n",
       "\n",
       "    .dataframe tbody tr th {\n",
       "        vertical-align: top;\n",
       "    }\n",
       "\n",
       "    .dataframe thead th {\n",
       "        text-align: right;\n",
       "    }\n",
       "</style>\n",
       "<table border=\"1\" class=\"dataframe\">\n",
       "  <thead>\n",
       "    <tr style=\"text-align: right;\">\n",
       "      <th></th>\n",
       "      <th>loan_amnt</th>\n",
       "      <th>term</th>\n",
       "      <th>installment</th>\n",
       "      <th>emp_length</th>\n",
       "      <th>home_ownership</th>\n",
       "      <th>annual_inc</th>\n",
       "      <th>verification_status</th>\n",
       "      <th>purpose</th>\n",
       "      <th>addr_state</th>\n",
       "      <th>dti</th>\n",
       "      <th>fico_range_low</th>\n",
       "      <th>fico_range_high</th>\n",
       "      <th>last_fico_range_high</th>\n",
       "      <th>last_fico_range_low</th>\n",
       "      <th>acc_now_delinq</th>\n",
       "      <th>delinq_amnt</th>\n",
       "      <th>delinq_2yrs</th>\n",
       "      <th>inq_last_6mths</th>\n",
       "      <th>Default</th>\n",
       "    </tr>\n",
       "  </thead>\n",
       "  <tbody>\n",
       "    <tr>\n",
       "      <td>0</td>\n",
       "      <td>30000</td>\n",
       "      <td>60 months</td>\n",
       "      <td>761.64000</td>\n",
       "      <td>6 years</td>\n",
       "      <td>RENT</td>\n",
       "      <td>100100.00000</td>\n",
       "      <td>Verified</td>\n",
       "      <td>debt_consolidation</td>\n",
       "      <td>SC</td>\n",
       "      <td>27.42000</td>\n",
       "      <td>690</td>\n",
       "      <td>694</td>\n",
       "      <td>709</td>\n",
       "      <td>705</td>\n",
       "      <td>0</td>\n",
       "      <td>0</td>\n",
       "      <td>0</td>\n",
       "      <td>0</td>\n",
       "      <td>0.00000</td>\n",
       "    </tr>\n",
       "    <tr>\n",
       "      <td>1</td>\n",
       "      <td>30000</td>\n",
       "      <td>60 months</td>\n",
       "      <td>692.93000</td>\n",
       "      <td>10+ years</td>\n",
       "      <td>MORTGAGE</td>\n",
       "      <td>235000.00000</td>\n",
       "      <td>Source Verified</td>\n",
       "      <td>home_improvement</td>\n",
       "      <td>PA</td>\n",
       "      <td>7.50000</td>\n",
       "      <td>670</td>\n",
       "      <td>674</td>\n",
       "      <td>649</td>\n",
       "      <td>645</td>\n",
       "      <td>0</td>\n",
       "      <td>0</td>\n",
       "      <td>1</td>\n",
       "      <td>1</td>\n",
       "      <td>0.00000</td>\n",
       "    </tr>\n",
       "    <tr>\n",
       "      <td>2</td>\n",
       "      <td>16000</td>\n",
       "      <td>60 months</td>\n",
       "      <td>379.39000</td>\n",
       "      <td>6 years</td>\n",
       "      <td>RENT</td>\n",
       "      <td>84000.00000</td>\n",
       "      <td>Not Verified</td>\n",
       "      <td>debt_consolidation</td>\n",
       "      <td>FL</td>\n",
       "      <td>27.87000</td>\n",
       "      <td>735</td>\n",
       "      <td>739</td>\n",
       "      <td>739</td>\n",
       "      <td>735</td>\n",
       "      <td>0</td>\n",
       "      <td>0</td>\n",
       "      <td>0</td>\n",
       "      <td>0</td>\n",
       "      <td>0.00000</td>\n",
       "    </tr>\n",
       "    <tr>\n",
       "      <td>3</td>\n",
       "      <td>14000</td>\n",
       "      <td>36 months</td>\n",
       "      <td>439.88000</td>\n",
       "      <td>5 years</td>\n",
       "      <td>RENT</td>\n",
       "      <td>50000.00000</td>\n",
       "      <td>Source Verified</td>\n",
       "      <td>debt_consolidation</td>\n",
       "      <td>WV</td>\n",
       "      <td>21.65000</td>\n",
       "      <td>725</td>\n",
       "      <td>729</td>\n",
       "      <td>749</td>\n",
       "      <td>745</td>\n",
       "      <td>0</td>\n",
       "      <td>0</td>\n",
       "      <td>0</td>\n",
       "      <td>0</td>\n",
       "      <td>0.00000</td>\n",
       "    </tr>\n",
       "    <tr>\n",
       "      <td>4</td>\n",
       "      <td>7500</td>\n",
       "      <td>36 months</td>\n",
       "      <td>252.67000</td>\n",
       "      <td>3 years</td>\n",
       "      <td>MORTGAGE</td>\n",
       "      <td>68000.00000</td>\n",
       "      <td>Not Verified</td>\n",
       "      <td>debt_consolidation</td>\n",
       "      <td>OH</td>\n",
       "      <td>29.09000</td>\n",
       "      <td>660</td>\n",
       "      <td>664</td>\n",
       "      <td>709</td>\n",
       "      <td>705</td>\n",
       "      <td>0</td>\n",
       "      <td>0</td>\n",
       "      <td>0</td>\n",
       "      <td>2</td>\n",
       "      <td>0.00000</td>\n",
       "    </tr>\n",
       "  </tbody>\n",
       "</table>\n",
       "</div>"
      ],
      "text/plain": [
       "   loan_amnt       term  installment emp_length home_ownership   annual_inc  \\\n",
       "0      30000  60 months    761.64000    6 years           RENT 100100.00000   \n",
       "1      30000  60 months    692.93000  10+ years       MORTGAGE 235000.00000   \n",
       "2      16000  60 months    379.39000    6 years           RENT  84000.00000   \n",
       "3      14000  36 months    439.88000    5 years           RENT  50000.00000   \n",
       "4       7500  36 months    252.67000    3 years       MORTGAGE  68000.00000   \n",
       "\n",
       "  verification_status             purpose addr_state      dti  fico_range_low  \\\n",
       "0            Verified  debt_consolidation         SC 27.42000             690   \n",
       "1     Source Verified    home_improvement         PA  7.50000             670   \n",
       "2        Not Verified  debt_consolidation         FL 27.87000             735   \n",
       "3     Source Verified  debt_consolidation         WV 21.65000             725   \n",
       "4        Not Verified  debt_consolidation         OH 29.09000             660   \n",
       "\n",
       "   fico_range_high  last_fico_range_high  last_fico_range_low  acc_now_delinq  \\\n",
       "0              694                   709                  705               0   \n",
       "1              674                   649                  645               0   \n",
       "2              739                   739                  735               0   \n",
       "3              729                   749                  745               0   \n",
       "4              664                   709                  705               0   \n",
       "\n",
       "   delinq_amnt  delinq_2yrs  inq_last_6mths Default  \n",
       "0            0            0               0 0.00000  \n",
       "1            0            1               1 0.00000  \n",
       "2            0            0               0 0.00000  \n",
       "3            0            0               0 0.00000  \n",
       "4            0            0               2 0.00000  "
      ]
     },
     "execution_count": 118,
     "metadata": {},
     "output_type": "execute_result"
    }
   ],
   "source": [
    "loan_4.head()"
   ]
  },
  {
   "cell_type": "markdown",
   "metadata": {},
   "source": [
    "## Correlation Plot"
   ]
  },
  {
   "cell_type": "code",
   "execution_count": 119,
   "metadata": {},
   "outputs": [
    {
     "data": {
      "image/png": "[encoded data removed]",
      "text/plain": [
       "<Figure size 648x648 with 2 Axes>"
      ]
     },
     "metadata": {},
     "output_type": "display_data"
    }
   ],
   "source": [
    "plt.figure(figsize = (9,9))\n",
    "p = sns.heatmap(loan_4.corr(), annot = True, cmap = \"YlGnBu\")"
   ]
  },
  {
   "cell_type": "markdown",
   "metadata": {},
   "source": [
    "* `installment` has very high correlation with `loan_amnt`. \n",
    "\n",
    "* `last_fico_range_low` is highly correlated with `last_fico_range_high`\n",
    "\n",
    "I will drop `installment` and `last_fico_range_low` here. Then we don't have any multicollinearity problem here."
   ]
  },
  {
   "cell_type": "code",
   "execution_count": 120,
   "metadata": {},
   "outputs": [],
   "source": [
    "# drop installment\n",
    "loan_5 = loan_4.drop('installment', axis = 1)"
   ]
  },
  {
   "cell_type": "markdown",
   "metadata": {},
   "source": [
    "## Chi-square Test"
   ]
  },
  {
   "cell_type": "code",
   "execution_count": 121,
   "metadata": {},
   "outputs": [
    {
     "data": {
      "text/plain": [
       "Index(['term', 'emp_length', 'home_ownership', 'verification_status',\n",
       "       'purpose', 'addr_state'],\n",
       "      dtype='object')"
      ]
     },
     "execution_count": 121,
     "metadata": {},
     "output_type": "execute_result"
    }
   ],
   "source": [
    "## get categorical variables\n",
    "cat_variables = loan_5.select_dtypes(include = ['object']).columns\n",
    "cat_variables"
   ]
  },
  {
   "cell_type": "code",
   "execution_count": 122,
   "metadata": {},
   "outputs": [],
   "source": [
    "## create contigency tables, calculate chi-square and p-value\n",
    "\n",
    "chi_square = {\"variable\":[],\n",
    "            \"chi-square\":[],\n",
    "              \"p-value\":[]}\n",
    "\n",
    "for var in cat_variables:\n",
    "    chi_square[\"variable\"].append(var)\n",
    "    chi_square['chi-square'].append(stats.chi2_contingency(pd.crosstab(loan_5[var], loan_5.Default))[0])\n",
    "    chi_square['p-value'].append(stats.chi2_contingency(pd.crosstab(loan_5[var], loan_5.Default))[1])"
   ]
  },
  {
   "cell_type": "code",
   "execution_count": 123,
   "metadata": {},
   "outputs": [
    {
     "data": {
      "text/html": [
       "<div>\n",
       "<style scoped>\n",
       "    .dataframe tbody tr th:only-of-type {\n",
       "        vertical-align: middle;\n",
       "    }\n",
       "\n",
       "    .dataframe tbody tr th {\n",
       "        vertical-align: top;\n",
       "    }\n",
       "\n",
       "    .dataframe thead th {\n",
       "        text-align: right;\n",
       "    }\n",
       "</style>\n",
       "<table border=\"1\" class=\"dataframe\">\n",
       "  <thead>\n",
       "    <tr style=\"text-align: right;\">\n",
       "      <th></th>\n",
       "      <th>variable</th>\n",
       "      <th>chi-square</th>\n",
       "      <th>p-value</th>\n",
       "    </tr>\n",
       "  </thead>\n",
       "  <tbody>\n",
       "    <tr>\n",
       "      <td>0</td>\n",
       "      <td>term</td>\n",
       "      <td>309.40408</td>\n",
       "      <td>0.00000</td>\n",
       "    </tr>\n",
       "    <tr>\n",
       "      <td>1</td>\n",
       "      <td>emp_length</td>\n",
       "      <td>33.90234</td>\n",
       "      <td>0.00019</td>\n",
       "    </tr>\n",
       "    <tr>\n",
       "      <td>2</td>\n",
       "      <td>home_ownership</td>\n",
       "      <td>87.47949</td>\n",
       "      <td>0.00000</td>\n",
       "    </tr>\n",
       "    <tr>\n",
       "      <td>3</td>\n",
       "      <td>verification_status</td>\n",
       "      <td>280.29308</td>\n",
       "      <td>0.00000</td>\n",
       "    </tr>\n",
       "    <tr>\n",
       "      <td>4</td>\n",
       "      <td>purpose</td>\n",
       "      <td>140.01757</td>\n",
       "      <td>0.00000</td>\n",
       "    </tr>\n",
       "    <tr>\n",
       "      <td>5</td>\n",
       "      <td>addr_state</td>\n",
       "      <td>121.69402</td>\n",
       "      <td>0.00000</td>\n",
       "    </tr>\n",
       "  </tbody>\n",
       "</table>\n",
       "</div>"
      ],
      "text/plain": [
       "              variable  chi-square  p-value\n",
       "0                 term   309.40408  0.00000\n",
       "1           emp_length    33.90234  0.00019\n",
       "2       home_ownership    87.47949  0.00000\n",
       "3  verification_status   280.29308  0.00000\n",
       "4              purpose   140.01757  0.00000\n",
       "5           addr_state   121.69402  0.00000"
      ]
     },
     "execution_count": 123,
     "metadata": {},
     "output_type": "execute_result"
    }
   ],
   "source": [
    "chi_square_df = pd.DataFrame(chi_square)\n",
    "chi_square_df"
   ]
  },
  {
   "cell_type": "markdown",
   "metadata": {},
   "source": [
    "All of these categorical variables are dependent on the response variable -- based on the high chi-square values and low p-value. I'll include all of them in the modeling part."
   ]
  },
  {
   "cell_type": "markdown",
   "metadata": {},
   "source": [
    "# Predictive Modeling"
   ]
  },
  {
   "cell_type": "markdown",
   "metadata": {},
   "source": [
    "## One-hot Encoding"
   ]
  },
  {
   "cell_type": "markdown",
   "metadata": {},
   "source": [
    "A one-hot encoding is a representation of categorical variables as binary vectors."
   ]
  },
  {
   "cell_type": "code",
   "execution_count": 134,
   "metadata": {},
   "outputs": [
    {
     "name": "stdout",
     "output_type": "stream",
     "text": [
      "(75127, 89)\n"
     ]
    },
    {
     "data": {
      "text/html": [
       "<div>\n",
       "<style scoped>\n",
       "    .dataframe tbody tr th:only-of-type {\n",
       "        vertical-align: middle;\n",
       "    }\n",
       "\n",
       "    .dataframe tbody tr th {\n",
       "        vertical-align: top;\n",
       "    }\n",
       "\n",
       "    .dataframe thead th {\n",
       "        text-align: right;\n",
       "    }\n",
       "</style>\n",
       "<table border=\"1\" class=\"dataframe\">\n",
       "  <thead>\n",
       "    <tr style=\"text-align: right;\">\n",
       "      <th></th>\n",
       "      <th>loan_amnt</th>\n",
       "      <th>annual_inc</th>\n",
       "      <th>dti</th>\n",
       "      <th>fico_range_low</th>\n",
       "      <th>fico_range_high</th>\n",
       "      <th>last_fico_range_high</th>\n",
       "      <th>last_fico_range_low</th>\n",
       "      <th>acc_now_delinq</th>\n",
       "      <th>delinq_amnt</th>\n",
       "      <th>delinq_2yrs</th>\n",
       "      <th>inq_last_6mths</th>\n",
       "      <th>Default</th>\n",
       "      <th>term_60 months</th>\n",
       "      <th>emp_length_10+ years</th>\n",
       "      <th>emp_length_2 years</th>\n",
       "      <th>emp_length_3 years</th>\n",
       "      <th>emp_length_4 years</th>\n",
       "      <th>emp_length_5 years</th>\n",
       "      <th>emp_length_6 years</th>\n",
       "      <th>emp_length_7 years</th>\n",
       "      <th>emp_length_8 years</th>\n",
       "      <th>emp_length_9 years</th>\n",
       "      <th>emp_length_&lt; 1 year</th>\n",
       "      <th>home_ownership_MORTGAGE</th>\n",
       "      <th>home_ownership_OWN</th>\n",
       "      <th>home_ownership_RENT</th>\n",
       "      <th>verification_status_Source Verified</th>\n",
       "      <th>verification_status_Verified</th>\n",
       "      <th>purpose_credit_card</th>\n",
       "      <th>purpose_debt_consolidation</th>\n",
       "      <th>purpose_home_improvement</th>\n",
       "      <th>purpose_house</th>\n",
       "      <th>purpose_major_purchase</th>\n",
       "      <th>purpose_medical</th>\n",
       "      <th>purpose_moving</th>\n",
       "      <th>purpose_other</th>\n",
       "      <th>purpose_renewable_energy</th>\n",
       "      <th>purpose_small_business</th>\n",
       "      <th>purpose_vacation</th>\n",
       "      <th>purpose_wedding</th>\n",
       "      <th>addr_state_AL</th>\n",
       "      <th>addr_state_AR</th>\n",
       "      <th>addr_state_AZ</th>\n",
       "      <th>addr_state_CA</th>\n",
       "      <th>addr_state_CO</th>\n",
       "      <th>addr_state_CT</th>\n",
       "      <th>addr_state_DC</th>\n",
       "      <th>addr_state_DE</th>\n",
       "      <th>addr_state_FL</th>\n",
       "      <th>addr_state_GA</th>\n",
       "      <th>addr_state_HI</th>\n",
       "      <th>addr_state_ID</th>\n",
       "      <th>addr_state_IL</th>\n",
       "      <th>addr_state_IN</th>\n",
       "      <th>addr_state_KS</th>\n",
       "      <th>addr_state_KY</th>\n",
       "      <th>addr_state_LA</th>\n",
       "      <th>addr_state_MA</th>\n",
       "      <th>addr_state_MD</th>\n",
       "      <th>addr_state_ME</th>\n",
       "      <th>addr_state_MI</th>\n",
       "      <th>addr_state_MN</th>\n",
       "      <th>addr_state_MO</th>\n",
       "      <th>addr_state_MS</th>\n",
       "      <th>addr_state_MT</th>\n",
       "      <th>addr_state_NC</th>\n",
       "      <th>addr_state_ND</th>\n",
       "      <th>addr_state_NE</th>\n",
       "      <th>addr_state_NH</th>\n",
       "      <th>addr_state_NJ</th>\n",
       "      <th>addr_state_NM</th>\n",
       "      <th>addr_state_NV</th>\n",
       "      <th>addr_state_NY</th>\n",
       "      <th>addr_state_OH</th>\n",
       "      <th>addr_state_OK</th>\n",
       "      <th>addr_state_OR</th>\n",
       "      <th>addr_state_PA</th>\n",
       "      <th>addr_state_RI</th>\n",
       "      <th>addr_state_SC</th>\n",
       "      <th>addr_state_SD</th>\n",
       "      <th>addr_state_TN</th>\n",
       "      <th>addr_state_TX</th>\n",
       "      <th>addr_state_UT</th>\n",
       "      <th>addr_state_VA</th>\n",
       "      <th>addr_state_VT</th>\n",
       "      <th>addr_state_WA</th>\n",
       "      <th>addr_state_WI</th>\n",
       "      <th>addr_state_WV</th>\n",
       "      <th>addr_state_WY</th>\n",
       "    </tr>\n",
       "  </thead>\n",
       "  <tbody>\n",
       "    <tr>\n",
       "      <td>0</td>\n",
       "      <td>30000</td>\n",
       "      <td>100100.00000</td>\n",
       "      <td>27.42000</td>\n",
       "      <td>690</td>\n",
       "      <td>694</td>\n",
       "      <td>709</td>\n",
       "      <td>705</td>\n",
       "      <td>0</td>\n",
       "      <td>0</td>\n",
       "      <td>0</td>\n",
       "      <td>0</td>\n",
       "      <td>0.00000</td>\n",
       "      <td>1</td>\n",
       "      <td>0</td>\n",
       "      <td>0</td>\n",
       "      <td>0</td>\n",
       "      <td>0</td>\n",
       "      <td>0</td>\n",
       "      <td>1</td>\n",
       "      <td>0</td>\n",
       "      <td>0</td>\n",
       "      <td>0</td>\n",
       "      <td>0</td>\n",
       "      <td>0</td>\n",
       "      <td>0</td>\n",
       "      <td>1</td>\n",
       "      <td>0</td>\n",
       "      <td>1</td>\n",
       "      <td>0</td>\n",
       "      <td>1</td>\n",
       "      <td>0</td>\n",
       "      <td>0</td>\n",
       "      <td>0</td>\n",
       "      <td>0</td>\n",
       "      <td>0</td>\n",
       "      <td>0</td>\n",
       "      <td>0</td>\n",
       "      <td>0</td>\n",
       "      <td>0</td>\n",
       "      <td>0</td>\n",
       "      <td>0</td>\n",
       "      <td>0</td>\n",
       "      <td>0</td>\n",
       "      <td>0</td>\n",
       "      <td>0</td>\n",
       "      <td>0</td>\n",
       "      <td>0</td>\n",
       "      <td>0</td>\n",
       "      <td>0</td>\n",
       "      <td>0</td>\n",
       "      <td>0</td>\n",
       "      <td>0</td>\n",
       "      <td>0</td>\n",
       "      <td>0</td>\n",
       "      <td>0</td>\n",
       "      <td>0</td>\n",
       "      <td>0</td>\n",
       "      <td>0</td>\n",
       "      <td>0</td>\n",
       "      <td>0</td>\n",
       "      <td>0</td>\n",
       "      <td>0</td>\n",
       "      <td>0</td>\n",
       "      <td>0</td>\n",
       "      <td>0</td>\n",
       "      <td>0</td>\n",
       "      <td>0</td>\n",
       "      <td>0</td>\n",
       "      <td>0</td>\n",
       "      <td>0</td>\n",
       "      <td>0</td>\n",
       "      <td>0</td>\n",
       "      <td>0</td>\n",
       "      <td>0</td>\n",
       "      <td>0</td>\n",
       "      <td>0</td>\n",
       "      <td>0</td>\n",
       "      <td>0</td>\n",
       "      <td>1</td>\n",
       "      <td>0</td>\n",
       "      <td>0</td>\n",
       "      <td>0</td>\n",
       "      <td>0</td>\n",
       "      <td>0</td>\n",
       "      <td>0</td>\n",
       "      <td>0</td>\n",
       "      <td>0</td>\n",
       "      <td>0</td>\n",
       "      <td>0</td>\n",
       "    </tr>\n",
       "    <tr>\n",
       "      <td>1</td>\n",
       "      <td>30000</td>\n",
       "      <td>235000.00000</td>\n",
       "      <td>7.50000</td>\n",
       "      <td>670</td>\n",
       "      <td>674</td>\n",
       "      <td>649</td>\n",
       "      <td>645</td>\n",
       "      <td>0</td>\n",
       "      <td>0</td>\n",
       "      <td>1</td>\n",
       "      <td>1</td>\n",
       "      <td>0.00000</td>\n",
       "      <td>1</td>\n",
       "      <td>1</td>\n",
       "      <td>0</td>\n",
       "      <td>0</td>\n",
       "      <td>0</td>\n",
       "      <td>0</td>\n",
       "      <td>0</td>\n",
       "      <td>0</td>\n",
       "      <td>0</td>\n",
       "      <td>0</td>\n",
       "      <td>0</td>\n",
       "      <td>1</td>\n",
       "      <td>0</td>\n",
       "      <td>0</td>\n",
       "      <td>1</td>\n",
       "      <td>0</td>\n",
       "      <td>0</td>\n",
       "      <td>0</td>\n",
       "      <td>1</td>\n",
       "      <td>0</td>\n",
       "      <td>0</td>\n",
       "      <td>0</td>\n",
       "      <td>0</td>\n",
       "      <td>0</td>\n",
       "      <td>0</td>\n",
       "      <td>0</td>\n",
       "      <td>0</td>\n",
       "      <td>0</td>\n",
       "      <td>0</td>\n",
       "      <td>0</td>\n",
       "      <td>0</td>\n",
       "      <td>0</td>\n",
       "      <td>0</td>\n",
       "      <td>0</td>\n",
       "      <td>0</td>\n",
       "      <td>0</td>\n",
       "      <td>0</td>\n",
       "      <td>0</td>\n",
       "      <td>0</td>\n",
       "      <td>0</td>\n",
       "      <td>0</td>\n",
       "      <td>0</td>\n",
       "      <td>0</td>\n",
       "      <td>0</td>\n",
       "      <td>0</td>\n",
       "      <td>0</td>\n",
       "      <td>0</td>\n",
       "      <td>0</td>\n",
       "      <td>0</td>\n",
       "      <td>0</td>\n",
       "      <td>0</td>\n",
       "      <td>0</td>\n",
       "      <td>0</td>\n",
       "      <td>0</td>\n",
       "      <td>0</td>\n",
       "      <td>0</td>\n",
       "      <td>0</td>\n",
       "      <td>0</td>\n",
       "      <td>0</td>\n",
       "      <td>0</td>\n",
       "      <td>0</td>\n",
       "      <td>0</td>\n",
       "      <td>0</td>\n",
       "      <td>0</td>\n",
       "      <td>1</td>\n",
       "      <td>0</td>\n",
       "      <td>0</td>\n",
       "      <td>0</td>\n",
       "      <td>0</td>\n",
       "      <td>0</td>\n",
       "      <td>0</td>\n",
       "      <td>0</td>\n",
       "      <td>0</td>\n",
       "      <td>0</td>\n",
       "      <td>0</td>\n",
       "      <td>0</td>\n",
       "      <td>0</td>\n",
       "    </tr>\n",
       "    <tr>\n",
       "      <td>2</td>\n",
       "      <td>16000</td>\n",
       "      <td>84000.00000</td>\n",
       "      <td>27.87000</td>\n",
       "      <td>735</td>\n",
       "      <td>739</td>\n",
       "      <td>739</td>\n",
       "      <td>735</td>\n",
       "      <td>0</td>\n",
       "      <td>0</td>\n",
       "      <td>0</td>\n",
       "      <td>0</td>\n",
       "      <td>0.00000</td>\n",
       "      <td>1</td>\n",
       "      <td>0</td>\n",
       "      <td>0</td>\n",
       "      <td>0</td>\n",
       "      <td>0</td>\n",
       "      <td>0</td>\n",
       "      <td>1</td>\n",
       "      <td>0</td>\n",
       "      <td>0</td>\n",
       "      <td>0</td>\n",
       "      <td>0</td>\n",
       "      <td>0</td>\n",
       "      <td>0</td>\n",
       "      <td>1</td>\n",
       "      <td>0</td>\n",
       "      <td>0</td>\n",
       "      <td>0</td>\n",
       "      <td>1</td>\n",
       "      <td>0</td>\n",
       "      <td>0</td>\n",
       "      <td>0</td>\n",
       "      <td>0</td>\n",
       "      <td>0</td>\n",
       "      <td>0</td>\n",
       "      <td>0</td>\n",
       "      <td>0</td>\n",
       "      <td>0</td>\n",
       "      <td>0</td>\n",
       "      <td>0</td>\n",
       "      <td>0</td>\n",
       "      <td>0</td>\n",
       "      <td>0</td>\n",
       "      <td>0</td>\n",
       "      <td>0</td>\n",
       "      <td>0</td>\n",
       "      <td>0</td>\n",
       "      <td>1</td>\n",
       "      <td>0</td>\n",
       "      <td>0</td>\n",
       "      <td>0</td>\n",
       "      <td>0</td>\n",
       "      <td>0</td>\n",
       "      <td>0</td>\n",
       "      <td>0</td>\n",
       "      <td>0</td>\n",
       "      <td>0</td>\n",
       "      <td>0</td>\n",
       "      <td>0</td>\n",
       "      <td>0</td>\n",
       "      <td>0</td>\n",
       "      <td>0</td>\n",
       "      <td>0</td>\n",
       "      <td>0</td>\n",
       "      <td>0</td>\n",
       "      <td>0</td>\n",
       "      <td>0</td>\n",
       "      <td>0</td>\n",
       "      <td>0</td>\n",
       "      <td>0</td>\n",
       "      <td>0</td>\n",
       "      <td>0</td>\n",
       "      <td>0</td>\n",
       "      <td>0</td>\n",
       "      <td>0</td>\n",
       "      <td>0</td>\n",
       "      <td>0</td>\n",
       "      <td>0</td>\n",
       "      <td>0</td>\n",
       "      <td>0</td>\n",
       "      <td>0</td>\n",
       "      <td>0</td>\n",
       "      <td>0</td>\n",
       "      <td>0</td>\n",
       "      <td>0</td>\n",
       "      <td>0</td>\n",
       "      <td>0</td>\n",
       "      <td>0</td>\n",
       "    </tr>\n",
       "    <tr>\n",
       "      <td>3</td>\n",
       "      <td>14000</td>\n",
       "      <td>50000.00000</td>\n",
       "      <td>21.65000</td>\n",
       "      <td>725</td>\n",
       "      <td>729</td>\n",
       "      <td>749</td>\n",
       "      <td>745</td>\n",
       "      <td>0</td>\n",
       "      <td>0</td>\n",
       "      <td>0</td>\n",
       "      <td>0</td>\n",
       "      <td>0.00000</td>\n",
       "      <td>0</td>\n",
       "      <td>0</td>\n",
       "      <td>0</td>\n",
       "      <td>0</td>\n",
       "      <td>0</td>\n",
       "      <td>1</td>\n",
       "      <td>0</td>\n",
       "      <td>0</td>\n",
       "      <td>0</td>\n",
       "      <td>0</td>\n",
       "      <td>0</td>\n",
       "      <td>0</td>\n",
       "      <td>0</td>\n",
       "      <td>1</td>\n",
       "      <td>1</td>\n",
       "      <td>0</td>\n",
       "      <td>0</td>\n",
       "      <td>1</td>\n",
       "      <td>0</td>\n",
       "      <td>0</td>\n",
       "      <td>0</td>\n",
       "      <td>0</td>\n",
       "      <td>0</td>\n",
       "      <td>0</td>\n",
       "      <td>0</td>\n",
       "      <td>0</td>\n",
       "      <td>0</td>\n",
       "      <td>0</td>\n",
       "      <td>0</td>\n",
       "      <td>0</td>\n",
       "      <td>0</td>\n",
       "      <td>0</td>\n",
       "      <td>0</td>\n",
       "      <td>0</td>\n",
       "      <td>0</td>\n",
       "      <td>0</td>\n",
       "      <td>0</td>\n",
       "      <td>0</td>\n",
       "      <td>0</td>\n",
       "      <td>0</td>\n",
       "      <td>0</td>\n",
       "      <td>0</td>\n",
       "      <td>0</td>\n",
       "      <td>0</td>\n",
       "      <td>0</td>\n",
       "      <td>0</td>\n",
       "      <td>0</td>\n",
       "      <td>0</td>\n",
       "      <td>0</td>\n",
       "      <td>0</td>\n",
       "      <td>0</td>\n",
       "      <td>0</td>\n",
       "      <td>0</td>\n",
       "      <td>0</td>\n",
       "      <td>0</td>\n",
       "      <td>0</td>\n",
       "      <td>0</td>\n",
       "      <td>0</td>\n",
       "      <td>0</td>\n",
       "      <td>0</td>\n",
       "      <td>0</td>\n",
       "      <td>0</td>\n",
       "      <td>0</td>\n",
       "      <td>0</td>\n",
       "      <td>0</td>\n",
       "      <td>0</td>\n",
       "      <td>0</td>\n",
       "      <td>0</td>\n",
       "      <td>0</td>\n",
       "      <td>0</td>\n",
       "      <td>0</td>\n",
       "      <td>0</td>\n",
       "      <td>0</td>\n",
       "      <td>0</td>\n",
       "      <td>0</td>\n",
       "      <td>1</td>\n",
       "      <td>0</td>\n",
       "    </tr>\n",
       "    <tr>\n",
       "      <td>4</td>\n",
       "      <td>7500</td>\n",
       "      <td>68000.00000</td>\n",
       "      <td>29.09000</td>\n",
       "      <td>660</td>\n",
       "      <td>664</td>\n",
       "      <td>709</td>\n",
       "      <td>705</td>\n",
       "      <td>0</td>\n",
       "      <td>0</td>\n",
       "      <td>0</td>\n",
       "      <td>2</td>\n",
       "      <td>0.00000</td>\n",
       "      <td>0</td>\n",
       "      <td>0</td>\n",
       "      <td>0</td>\n",
       "      <td>1</td>\n",
       "      <td>0</td>\n",
       "      <td>0</td>\n",
       "      <td>0</td>\n",
       "      <td>0</td>\n",
       "      <td>0</td>\n",
       "      <td>0</td>\n",
       "      <td>0</td>\n",
       "      <td>1</td>\n",
       "      <td>0</td>\n",
       "      <td>0</td>\n",
       "      <td>0</td>\n",
       "      <td>0</td>\n",
       "      <td>0</td>\n",
       "      <td>1</td>\n",
       "      <td>0</td>\n",
       "      <td>0</td>\n",
       "      <td>0</td>\n",
       "      <td>0</td>\n",
       "      <td>0</td>\n",
       "      <td>0</td>\n",
       "      <td>0</td>\n",
       "      <td>0</td>\n",
       "      <td>0</td>\n",
       "      <td>0</td>\n",
       "      <td>0</td>\n",
       "      <td>0</td>\n",
       "      <td>0</td>\n",
       "      <td>0</td>\n",
       "      <td>0</td>\n",
       "      <td>0</td>\n",
       "      <td>0</td>\n",
       "      <td>0</td>\n",
       "      <td>0</td>\n",
       "      <td>0</td>\n",
       "      <td>0</td>\n",
       "      <td>0</td>\n",
       "      <td>0</td>\n",
       "      <td>0</td>\n",
       "      <td>0</td>\n",
       "      <td>0</td>\n",
       "      <td>0</td>\n",
       "      <td>0</td>\n",
       "      <td>0</td>\n",
       "      <td>0</td>\n",
       "      <td>0</td>\n",
       "      <td>0</td>\n",
       "      <td>0</td>\n",
       "      <td>0</td>\n",
       "      <td>0</td>\n",
       "      <td>0</td>\n",
       "      <td>0</td>\n",
       "      <td>0</td>\n",
       "      <td>0</td>\n",
       "      <td>0</td>\n",
       "      <td>0</td>\n",
       "      <td>0</td>\n",
       "      <td>0</td>\n",
       "      <td>1</td>\n",
       "      <td>0</td>\n",
       "      <td>0</td>\n",
       "      <td>0</td>\n",
       "      <td>0</td>\n",
       "      <td>0</td>\n",
       "      <td>0</td>\n",
       "      <td>0</td>\n",
       "      <td>0</td>\n",
       "      <td>0</td>\n",
       "      <td>0</td>\n",
       "      <td>0</td>\n",
       "      <td>0</td>\n",
       "      <td>0</td>\n",
       "      <td>0</td>\n",
       "      <td>0</td>\n",
       "    </tr>\n",
       "  </tbody>\n",
       "</table>\n",
       "</div>"
      ],
      "text/plain": [
       "   loan_amnt   annual_inc      dti  fico_range_low  fico_range_high  \\\n",
       "0      30000 100100.00000 27.42000             690              694   \n",
       "1      30000 235000.00000  7.50000             670              674   \n",
       "2      16000  84000.00000 27.87000             735              739   \n",
       "3      14000  50000.00000 21.65000             725              729   \n",
       "4       7500  68000.00000 29.09000             660              664   \n",
       "\n",
       "   last_fico_range_high  last_fico_range_low  acc_now_delinq  delinq_amnt  \\\n",
       "0                   709                  705               0            0   \n",
       "1                   649                  645               0            0   \n",
       "2                   739                  735               0            0   \n",
       "3                   749                  745               0            0   \n",
       "4                   709                  705               0            0   \n",
       "\n",
       "   delinq_2yrs  inq_last_6mths Default  term_60 months  emp_length_10+ years  \\\n",
       "0            0               0 0.00000               1                     0   \n",
       "1            1               1 0.00000               1                     1   \n",
       "2            0               0 0.00000               1                     0   \n",
       "3            0               0 0.00000               0                     0   \n",
       "4            0               2 0.00000               0                     0   \n",
       "\n",
       "   emp_length_2 years  emp_length_3 years  emp_length_4 years  \\\n",
       "0                   0                   0                   0   \n",
       "1                   0                   0                   0   \n",
       "2                   0                   0                   0   \n",
       "3                   0                   0                   0   \n",
       "4                   0                   1                   0   \n",
       "\n",
       "   emp_length_5 years  emp_length_6 years  emp_length_7 years  \\\n",
       "0                   0                   1                   0   \n",
       "1                   0                   0                   0   \n",
       "2                   0                   1                   0   \n",
       "3                   1                   0                   0   \n",
       "4                   0                   0                   0   \n",
       "\n",
       "   emp_length_8 years  emp_length_9 years  emp_length_< 1 year  \\\n",
       "0                   0                   0                    0   \n",
       "1                   0                   0                    0   \n",
       "2                   0                   0                    0   \n",
       "3                   0                   0                    0   \n",
       "4                   0                   0                    0   \n",
       "\n",
       "   home_ownership_MORTGAGE  home_ownership_OWN  home_ownership_RENT  \\\n",
       "0                        0                   0                    1   \n",
       "1                        1                   0                    0   \n",
       "2                        0                   0                    1   \n",
       "3                        0                   0                    1   \n",
       "4                        1                   0                    0   \n",
       "\n",
       "   verification_status_Source Verified  verification_status_Verified  \\\n",
       "0                                    0                             1   \n",
       "1                                    1                             0   \n",
       "2                                    0                             0   \n",
       "3                                    1                             0   \n",
       "4                                    0                             0   \n",
       "\n",
       "   purpose_credit_card  purpose_debt_consolidation  purpose_home_improvement  \\\n",
       "0                    0                           1                         0   \n",
       "1                    0                           0                         1   \n",
       "2                    0                           1                         0   \n",
       "3                    0                           1                         0   \n",
       "4                    0                           1                         0   \n",
       "\n",
       "   purpose_house  purpose_major_purchase  purpose_medical  purpose_moving  \\\n",
       "0              0                       0                0               0   \n",
       "1              0                       0                0               0   \n",
       "2              0                       0                0               0   \n",
       "3              0                       0                0               0   \n",
       "4              0                       0                0               0   \n",
       "\n",
       "   purpose_other  purpose_renewable_energy  purpose_small_business  \\\n",
       "0              0                         0                       0   \n",
       "1              0                         0                       0   \n",
       "2              0                         0                       0   \n",
       "3              0                         0                       0   \n",
       "4              0                         0                       0   \n",
       "\n",
       "   purpose_vacation  purpose_wedding  addr_state_AL  addr_state_AR  \\\n",
       "0                 0                0              0              0   \n",
       "1                 0                0              0              0   \n",
       "2                 0                0              0              0   \n",
       "3                 0                0              0              0   \n",
       "4                 0                0              0              0   \n",
       "\n",
       "   addr_state_AZ  addr_state_CA  addr_state_CO  addr_state_CT  addr_state_DC  \\\n",
       "0              0              0              0              0              0   \n",
       "1              0              0              0              0              0   \n",
       "2              0              0              0              0              0   \n",
       "3              0              0              0              0              0   \n",
       "4              0              0              0              0              0   \n",
       "\n",
       "   addr_state_DE  addr_state_FL  addr_state_GA  addr_state_HI  addr_state_ID  \\\n",
       "0              0              0              0              0              0   \n",
       "1              0              0              0              0              0   \n",
       "2              0              1              0              0              0   \n",
       "3              0              0              0              0              0   \n",
       "4              0              0              0              0              0   \n",
       "\n",
       "   addr_state_IL  addr_state_IN  addr_state_KS  addr_state_KY  addr_state_LA  \\\n",
       "0              0              0              0              0              0   \n",
       "1              0              0              0              0              0   \n",
       "2              0              0              0              0              0   \n",
       "3              0              0              0              0              0   \n",
       "4              0              0              0              0              0   \n",
       "\n",
       "   addr_state_MA  addr_state_MD  addr_state_ME  addr_state_MI  addr_state_MN  \\\n",
       "0              0              0              0              0              0   \n",
       "1              0              0              0              0              0   \n",
       "2              0              0              0              0              0   \n",
       "3              0              0              0              0              0   \n",
       "4              0              0              0              0              0   \n",
       "\n",
       "   addr_state_MO  addr_state_MS  addr_state_MT  addr_state_NC  addr_state_ND  \\\n",
       "0              0              0              0              0              0   \n",
       "1              0              0              0              0              0   \n",
       "2              0              0              0              0              0   \n",
       "3              0              0              0              0              0   \n",
       "4              0              0              0              0              0   \n",
       "\n",
       "   addr_state_NE  addr_state_NH  addr_state_NJ  addr_state_NM  addr_state_NV  \\\n",
       "0              0              0              0              0              0   \n",
       "1              0              0              0              0              0   \n",
       "2              0              0              0              0              0   \n",
       "3              0              0              0              0              0   \n",
       "4              0              0              0              0              0   \n",
       "\n",
       "   addr_state_NY  addr_state_OH  addr_state_OK  addr_state_OR  addr_state_PA  \\\n",
       "0              0              0              0              0              0   \n",
       "1              0              0              0              0              1   \n",
       "2              0              0              0              0              0   \n",
       "3              0              0              0              0              0   \n",
       "4              0              1              0              0              0   \n",
       "\n",
       "   addr_state_RI  addr_state_SC  addr_state_SD  addr_state_TN  addr_state_TX  \\\n",
       "0              0              1              0              0              0   \n",
       "1              0              0              0              0              0   \n",
       "2              0              0              0              0              0   \n",
       "3              0              0              0              0              0   \n",
       "4              0              0              0              0              0   \n",
       "\n",
       "   addr_state_UT  addr_state_VA  addr_state_VT  addr_state_WA  addr_state_WI  \\\n",
       "0              0              0              0              0              0   \n",
       "1              0              0              0              0              0   \n",
       "2              0              0              0              0              0   \n",
       "3              0              0              0              0              0   \n",
       "4              0              0              0              0              0   \n",
       "\n",
       "   addr_state_WV  addr_state_WY  \n",
       "0              0              0  \n",
       "1              0              0  \n",
       "2              0              0  \n",
       "3              1              0  \n",
       "4              0              0  "
      ]
     },
     "execution_count": 134,
     "metadata": {},
     "output_type": "execute_result"
    }
   ],
   "source": [
    "dummy_df = pd.get_dummies(loan_5[cat_variables], drop_first = True)\n",
    "loan_6 = pd.concat([loan_5, dummy_df], axis = 1)\n",
    "loan_6 = loan_6.drop(cat_variables, axis = 1)\n",
    "print(loan_6.shape)\n",
    "loan_6.head()"
   ]
  },
  {
   "cell_type": "markdown",
   "metadata": {},
   "source": [
    "## Data Partition"
   ]
  },
  {
   "cell_type": "code",
   "execution_count": 136,
   "metadata": {},
   "outputs": [
    {
     "name": "stdout",
     "output_type": "stream",
     "text": [
      "(52588, 88)\n",
      "(22539, 88)\n"
     ]
    }
   ],
   "source": [
    "## 70%-30% Train-Test random split\n",
    "X = loan_6.drop('Default', axis = 1)\n",
    "y = loan_6['Default']\n",
    "\n",
    "X_train, X_test, y_train, y_test = train_test_split(X, y, test_size = 0.3, random_state = 74)\n",
    "\n",
    "print(X_train.shape)\n",
    "print(X_test.shape)"
   ]
  },
  {
   "cell_type": "code",
   "execution_count": 139,
   "metadata": {},
   "outputs": [],
   "source": [
    "#y.value_counts()"
   ]
  },
  {
   "cell_type": "markdown",
   "metadata": {},
   "source": [
    "## Model Construction"
   ]
  },
  {
   "cell_type": "markdown",
   "metadata": {},
   "source": [
    "### Logistic Regression"
   ]
  },
  {
   "cell_type": "code",
   "execution_count": 142,
   "metadata": {},
   "outputs": [
    {
     "name": "stderr",
     "output_type": "stream",
     "text": [
      "/opt/anaconda3/lib/python3.7/site-packages/sklearn/linear_model/logistic.py:432: FutureWarning: Default solver will be changed to 'lbfgs' in 0.22. Specify a solver to silence this warning.\n",
      "  FutureWarning)\n"
     ]
    }
   ],
   "source": [
    "LR = LogisticRegression()\n",
    "LR = LR.fit(X_train, np.ravel(y_train))\n",
    "y_predLR = LR.predict(X_test)"
   ]
  },
  {
   "cell_type": "code",
   "execution_count": 143,
   "metadata": {},
   "outputs": [
    {
     "name": "stdout",
     "output_type": "stream",
     "text": [
      "The weights of the attributes are: [[ 4.25758678e-05 -1.03940494e-07  1.39270222e-02  1.34534884e-02\n",
      "   1.43597822e-02 -3.44429546e-02 -3.14311100e-04  5.63846714e-05\n",
      "   5.57742218e-07  1.66600617e-04  1.07982168e-03  3.30363758e-04\n",
      "  -2.94343965e-06 -3.15581773e-06 -4.22554037e-06  1.22013808e-05\n",
      "   6.47556146e-06  7.61687066e-05 -1.40593946e-05 -4.93527041e-05\n",
      "   4.86335634e-05  8.67270327e-05 -4.49957716e-04  1.78511135e-04\n",
      "   4.98967819e-04  2.76522962e-04  4.62447004e-04 -4.87214527e-05\n",
      "   6.12936350e-04 -1.81992821e-04  1.52540818e-05 -2.04912101e-05\n",
      "  -2.07403491e-05 -4.07499659e-05 -2.68767815e-05  1.67031062e-06\n",
      "  -1.57677883e-05 -1.73691781e-05  0.00000000e+00  6.62840913e-05\n",
      "   2.13652069e-05  2.01129562e-05  2.58795281e-04  1.89195745e-05\n",
      "  -2.70755532e-05 -1.49642063e-05 -2.27147497e-05  1.82801249e-06\n",
      "  -1.07396900e-04  1.98460457e-05 -1.58072917e-07 -9.87202788e-05\n",
      "   1.54197781e-05  1.31289926e-05 -1.34687715e-05  5.91005745e-05\n",
      "   3.31870306e-05  5.50027184e-05 -2.70081055e-06 -2.28492788e-05\n",
      "   2.40953577e-05 -1.37960785e-05 -2.22002813e-05  4.05502566e-06\n",
      "   6.31434393e-05 -1.44664030e-05  6.83533032e-06 -8.32159229e-06\n",
      "  -5.03688601e-05  2.20206430e-05  5.15412532e-05  1.46351018e-04\n",
      "  -5.29910025e-05 -5.68450054e-06 -1.43033368e-05 -2.73585836e-05\n",
      "   1.94099059e-05 -3.26228690e-05 -6.54629996e-06 -7.07948184e-06\n",
      "  -8.50539615e-05  2.62407454e-05  3.74167629e-06 -2.45072402e-06\n",
      "  -5.48729004e-06 -2.89913845e-05 -2.76217263e-05 -3.79372575e-06]]\n"
     ]
    }
   ],
   "source": [
    "print(\"The weights of the attributes are:\", LR.coef_)"
   ]
  },
  {
   "cell_type": "code",
   "execution_count": 149,
   "metadata": {},
   "outputs": [],
   "source": [
    "# generate a report for model including accraucy, precision, recall and F1\n",
    "def get_all_measurements(y_test, y_pred, model_name):\n",
    "    column_names = ['Accuracy', 'Precision', 'Recall', 'F1-Score', 'AUC']\n",
    "    acc = accuracy_score(y_test, y_pred)\n",
    "    cm = confusion_matrix(y_test, y_pred)\n",
    "    tn, fp, fn, tp = cm.ravel()\n",
    "    precision = tp / (tp + fp)\n",
    "    fpr, tpr, thresholds = roc_curve(y_test, y_pred)\n",
    "    Auc = auc(fpr,tpr)\n",
    "    recall = tp / (tp + fn)\n",
    "    f1 = (2 * precision * recall) / (precision + recall)\n",
    "    # parameters = model.best_params_\n",
    "    values = np.array([[acc, precision, recall, f1, Auc]])\n",
    "    summary = pd.DataFrame(values, index=[model_name], columns=column_names)\n",
    "    return summary"
   ]
  },
  {
   "cell_type": "code",
   "execution_count": 152,
   "metadata": {},
   "outputs": [
    {
     "name": "stdout",
     "output_type": "stream",
     "text": [
      "              precision    recall  f1-score   support\n",
      "\n",
      "         0.0       0.96      0.99      0.97     20804\n",
      "         1.0       0.77      0.51      0.61      1735\n",
      "\n",
      "    accuracy                           0.95     22539\n",
      "   macro avg       0.87      0.75      0.79     22539\n",
      "weighted avg       0.95      0.95      0.95     22539\n",
      "\n"
     ]
    },
    {
     "data": {
      "text/html": [
       "<div>\n",
       "<style scoped>\n",
       "    .dataframe tbody tr th:only-of-type {\n",
       "        vertical-align: middle;\n",
       "    }\n",
       "\n",
       "    .dataframe tbody tr th {\n",
       "        vertical-align: top;\n",
       "    }\n",
       "\n",
       "    .dataframe thead th {\n",
       "        text-align: right;\n",
       "    }\n",
       "</style>\n",
       "<table border=\"1\" class=\"dataframe\">\n",
       "  <thead>\n",
       "    <tr style=\"text-align: right;\">\n",
       "      <th></th>\n",
       "      <th>Accuracy</th>\n",
       "      <th>Precision</th>\n",
       "      <th>Recall</th>\n",
       "      <th>F1-Score</th>\n",
       "      <th>AUC</th>\n",
       "    </tr>\n",
       "  </thead>\n",
       "  <tbody>\n",
       "    <tr>\n",
       "      <td>Logistic Regression</td>\n",
       "      <td>0.95062</td>\n",
       "      <td>0.77091</td>\n",
       "      <td>0.51009</td>\n",
       "      <td>0.61394</td>\n",
       "      <td>0.74872</td>\n",
       "    </tr>\n",
       "  </tbody>\n",
       "</table>\n",
       "</div>"
      ],
      "text/plain": [
       "                     Accuracy  Precision  Recall  F1-Score     AUC\n",
       "Logistic Regression   0.95062    0.77091 0.51009   0.61394 0.74872"
      ]
     },
     "execution_count": 152,
     "metadata": {},
     "output_type": "execute_result"
    }
   ],
   "source": [
    "## confusion matrix\n",
    "print(classification_report(y_test, y_predLR))\n",
    "\n",
    "LR_summary = get_all_measurements(y_test, y_predLR, 'Logistic Regression')\n",
    "LR_summary"
   ]
  },
  {
   "cell_type": "code",
   "execution_count": 1,
   "metadata": {},
   "outputs": [],
   "source": [
    "#pip install --upgrade jupyter"
   ]
  },
  {
   "cell_type": "code",
   "execution_count": null,
   "metadata": {},
   "outputs": [],
   "source": []
  }
 ],
 "metadata": {
  "kernelspec": {
   "display_name": "Python 3",
   "language": "python",
   "name": "python3"
  },
  "language_info": {
   "codemirror_mode": {
    "name": "ipython",
    "version": 3
   },
   "file_extension": ".py",
   "mimetype": "text/x-python",
   "name": "python",
   "nbconvert_exporter": "python",
   "pygments_lexer": "ipython3",
   "version": "3.7.4"
  },
  "toc": {
   "base_numbering": 1,
   "nav_menu": {},
   "number_sections": true,
   "sideBar": true,
   "skip_h1_title": false,
   "title_cell": "Table of Contents",
   "title_sidebar": "Contents",
   "toc_cell": true,
   "toc_position": {},
   "toc_section_display": true,
   "toc_window_display": true
  }
 },
 "nbformat": 4,
 "nbformat_minor": 2
}
